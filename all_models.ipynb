{
 "cells": [
  {
   "cell_type": "code",
   "execution_count": 22,
   "metadata": {},
   "outputs": [],
   "source": [
    "from sklearn.feature_extraction.text import TfidfVectorizer\n",
    "from sklearn.svm import LinearSVC\n",
    "from sklearn.pipeline import make_pipeline\n",
    "from sklearn.model_selection import train_test_split\n",
    "from sklearn.metrics import accuracy_score, classification_report\n",
    "from sklearn.metrics import f1_score\n",
    "from sklearn.linear_model import LogisticRegression\n",
    "from sklearn.tree import DecisionTreeClassifier\n",
    "from sklearn.ensemble import RandomForestClassifier\n",
    "from sklearn.naive_bayes import GaussianNB\n",
    "from sklearn.neural_network import MLPClassifier\n",
    "from sklearn.model_selection import cross_val_score\n",
    "from sklearn import metrics\n",
    "from sklearn.metrics import confusion_matrix\n",
    "import numpy as np\n",
    "import pandas as pd\n",
    "import itertools\n",
    "from nltk.tokenize import WordPunctTokenizer\n",
    "import nltk\n",
    "from sklearn.preprocessing import LabelEncoder,MinMaxScaler\n",
    "from sklearn import svm\n",
    "from sklearn.preprocessing import LabelEncoder\n",
    "import xgboost as xgb\n",
    "import re\n",
    "import langid\n",
    "from nltk.corpus import stopwords\n"
   ]
  },
  {
   "cell_type": "markdown",
   "metadata": {},
   "source": [
    "Helper Functions"
   ]
  },
  {
   "cell_type": "code",
   "execution_count": 23,
   "metadata": {},
   "outputs": [],
   "source": [
    "def preprocess_lyrics(lyrics, song_name):  \n",
    "\n",
    "    language, _ = langid.classify(lyrics)\n",
    "    if language != 'en':\n",
    "        lyrics = song_name\n",
    "    try:\n",
    "        lyrics = re.sub(r'[^a-zA-Z\\s]', '', lyrics)\n",
    "    except Exception as e:\n",
    "        print(\"error:\", lyrics)\n",
    "        return \"\" \n",
    "    if len(lyrics) > 5000:\n",
    "        lyrics = song_name\n",
    "    # Convert to lowercase\n",
    "    lyrics = lyrics.lower()\n",
    "\n",
    "    return lyrics\n",
    "\n",
    "class POSTogging:\n",
    "    def __init__(self):\n",
    "        self.wpt = WordPunctTokenizer()\n",
    "    def __call__(self, doc):\n",
    "        text = self.wpt.tokenize(doc)\n",
    "        return [word + '/' + tag for word, tag in nltk.pos_tag(text)]"
   ]
  },
  {
   "cell_type": "markdown",
   "metadata": {},
   "source": [
    "Data Loading and preprocessing"
   ]
  },
  {
   "cell_type": "code",
   "execution_count": 24,
   "metadata": {},
   "outputs": [
    {
     "data": {
      "text/html": [
       "<div>\n",
       "<style scoped>\n",
       "    .dataframe tbody tr th:only-of-type {\n",
       "        vertical-align: middle;\n",
       "    }\n",
       "\n",
       "    .dataframe tbody tr th {\n",
       "        vertical-align: top;\n",
       "    }\n",
       "\n",
       "    .dataframe thead th {\n",
       "        text-align: right;\n",
       "    }\n",
       "</style>\n",
       "<table border=\"1\" class=\"dataframe\">\n",
       "  <thead>\n",
       "    <tr style=\"text-align: right;\">\n",
       "      <th></th>\n",
       "      <th>Unnamed: 0</th>\n",
       "      <th>name</th>\n",
       "      <th>album</th>\n",
       "      <th>artist</th>\n",
       "      <th>id</th>\n",
       "      <th>release_date</th>\n",
       "      <th>popularity</th>\n",
       "      <th>length</th>\n",
       "      <th>danceability</th>\n",
       "      <th>acousticness</th>\n",
       "      <th>...</th>\n",
       "      <th>instrumentalness</th>\n",
       "      <th>liveness</th>\n",
       "      <th>valence</th>\n",
       "      <th>loudness</th>\n",
       "      <th>speechiness</th>\n",
       "      <th>tempo</th>\n",
       "      <th>key</th>\n",
       "      <th>time_signature</th>\n",
       "      <th>mood</th>\n",
       "      <th>lyrics</th>\n",
       "    </tr>\n",
       "  </thead>\n",
       "  <tbody>\n",
       "    <tr>\n",
       "      <th>0</th>\n",
       "      <td>70</td>\n",
       "      <td>Wish You Were Sober</td>\n",
       "      <td>Kid Krow</td>\n",
       "      <td>Conan Gray</td>\n",
       "      <td>0kn2gu8Pd03DiYHzRvX2Xk</td>\n",
       "      <td>2020-03-20</td>\n",
       "      <td>77</td>\n",
       "      <td>168880</td>\n",
       "      <td>0.701</td>\n",
       "      <td>0.0178</td>\n",
       "      <td>...</td>\n",
       "      <td>0.00000</td>\n",
       "      <td>0.170</td>\n",
       "      <td>0.6960</td>\n",
       "      <td>-5.226</td>\n",
       "      <td>0.0468</td>\n",
       "      <td>91.071</td>\n",
       "      <td>2</td>\n",
       "      <td>4</td>\n",
       "      <td>Energetic</td>\n",
       "      <td>74 ContributorsTranslationsPortuguêsTürkçeEspa...</td>\n",
       "    </tr>\n",
       "    <tr>\n",
       "      <th>1</th>\n",
       "      <td>827</td>\n",
       "      <td>Unfaithful</td>\n",
       "      <td>A Girl Like Me</td>\n",
       "      <td>Rihanna</td>\n",
       "      <td>13xxBnXOuiBxVxJI458B0i</td>\n",
       "      <td>2006-04-10</td>\n",
       "      <td>73</td>\n",
       "      <td>226973</td>\n",
       "      <td>0.588</td>\n",
       "      <td>0.8390</td>\n",
       "      <td>...</td>\n",
       "      <td>0.00000</td>\n",
       "      <td>0.227</td>\n",
       "      <td>0.3490</td>\n",
       "      <td>-8.607</td>\n",
       "      <td>0.0334</td>\n",
       "      <td>144.069</td>\n",
       "      <td>0</td>\n",
       "      <td>4</td>\n",
       "      <td>Calm</td>\n",
       "      <td>49 ContributorsUnfaithful Lyrics\\nStory of my ...</td>\n",
       "    </tr>\n",
       "    <tr>\n",
       "      <th>2</th>\n",
       "      <td>231</td>\n",
       "      <td>Orbits</td>\n",
       "      <td>Orbits</td>\n",
       "      <td>Halfway Escape</td>\n",
       "      <td>6jFX2sHOzh7tpIIOomlrqJ</td>\n",
       "      <td>2020-07-07</td>\n",
       "      <td>33</td>\n",
       "      <td>204827</td>\n",
       "      <td>0.438</td>\n",
       "      <td>0.8550</td>\n",
       "      <td>...</td>\n",
       "      <td>0.88100</td>\n",
       "      <td>0.110</td>\n",
       "      <td>0.4000</td>\n",
       "      <td>-13.924</td>\n",
       "      <td>0.0390</td>\n",
       "      <td>116.142</td>\n",
       "      <td>6</td>\n",
       "      <td>4</td>\n",
       "      <td>Calm</td>\n",
       "      <td>3 ContributorsThe Age of Lead LyricsThe man ha...</td>\n",
       "    </tr>\n",
       "    <tr>\n",
       "      <th>3</th>\n",
       "      <td>588</td>\n",
       "      <td>Water Colors</td>\n",
       "      <td>Water Colors</td>\n",
       "      <td>Star Slide</td>\n",
       "      <td>7rpGOF9MwCP2Oaz9yDO452</td>\n",
       "      <td>2019-09-18</td>\n",
       "      <td>50</td>\n",
       "      <td>182079</td>\n",
       "      <td>0.465</td>\n",
       "      <td>0.6330</td>\n",
       "      <td>...</td>\n",
       "      <td>0.93700</td>\n",
       "      <td>0.085</td>\n",
       "      <td>0.0659</td>\n",
       "      <td>-19.328</td>\n",
       "      <td>0.0386</td>\n",
       "      <td>72.021</td>\n",
       "      <td>7</td>\n",
       "      <td>4</td>\n",
       "      <td>Calm</td>\n",
       "      <td>1 ContributorRed Cartel Lyrics\\nUsed to pour a...</td>\n",
       "    </tr>\n",
       "    <tr>\n",
       "      <th>4</th>\n",
       "      <td>39</td>\n",
       "      <td>Sweet Nothing</td>\n",
       "      <td>Midnights (The Til Dawn Edition)</td>\n",
       "      <td>Taylor Swift</td>\n",
       "      <td>2L09RYwH5Pjzca6PmbUAw3</td>\n",
       "      <td>2023-05-26</td>\n",
       "      <td>67</td>\n",
       "      <td>188496</td>\n",
       "      <td>0.335</td>\n",
       "      <td>0.9670</td>\n",
       "      <td>...</td>\n",
       "      <td>0.00012</td>\n",
       "      <td>0.115</td>\n",
       "      <td>0.3910</td>\n",
       "      <td>-14.958</td>\n",
       "      <td>0.0480</td>\n",
       "      <td>175.917</td>\n",
       "      <td>0</td>\n",
       "      <td>4</td>\n",
       "      <td>Calm</td>\n",
       "      <td>NaN</td>\n",
       "    </tr>\n",
       "  </tbody>\n",
       "</table>\n",
       "<p>5 rows × 21 columns</p>\n",
       "</div>"
      ],
      "text/plain": [
       "   Unnamed: 0                 name                             album  \\\n",
       "0          70  Wish You Were Sober                          Kid Krow   \n",
       "1         827           Unfaithful                    A Girl Like Me   \n",
       "2         231               Orbits                            Orbits   \n",
       "3         588         Water Colors                      Water Colors   \n",
       "4          39        Sweet Nothing  Midnights (The Til Dawn Edition)   \n",
       "\n",
       "           artist                      id release_date  popularity  length  \\\n",
       "0      Conan Gray  0kn2gu8Pd03DiYHzRvX2Xk   2020-03-20          77  168880   \n",
       "1         Rihanna  13xxBnXOuiBxVxJI458B0i   2006-04-10          73  226973   \n",
       "2  Halfway Escape  6jFX2sHOzh7tpIIOomlrqJ   2020-07-07          33  204827   \n",
       "3      Star Slide  7rpGOF9MwCP2Oaz9yDO452   2019-09-18          50  182079   \n",
       "4    Taylor Swift  2L09RYwH5Pjzca6PmbUAw3   2023-05-26          67  188496   \n",
       "\n",
       "   danceability  acousticness  ...  instrumentalness  liveness  valence  \\\n",
       "0         0.701        0.0178  ...           0.00000     0.170   0.6960   \n",
       "1         0.588        0.8390  ...           0.00000     0.227   0.3490   \n",
       "2         0.438        0.8550  ...           0.88100     0.110   0.4000   \n",
       "3         0.465        0.6330  ...           0.93700     0.085   0.0659   \n",
       "4         0.335        0.9670  ...           0.00012     0.115   0.3910   \n",
       "\n",
       "   loudness  speechiness    tempo  key  time_signature       mood  \\\n",
       "0    -5.226       0.0468   91.071    2               4  Energetic   \n",
       "1    -8.607       0.0334  144.069    0               4       Calm   \n",
       "2   -13.924       0.0390  116.142    6               4       Calm   \n",
       "3   -19.328       0.0386   72.021    7               4       Calm   \n",
       "4   -14.958       0.0480  175.917    0               4       Calm   \n",
       "\n",
       "                                              lyrics  \n",
       "0  74 ContributorsTranslationsPortuguêsTürkçeEspa...  \n",
       "1  49 ContributorsUnfaithful Lyrics\\nStory of my ...  \n",
       "2  3 ContributorsThe Age of Lead LyricsThe man ha...  \n",
       "3  1 ContributorRed Cartel Lyrics\\nUsed to pour a...  \n",
       "4                                                NaN  \n",
       "\n",
       "[5 rows x 21 columns]"
      ]
     },
     "execution_count": 24,
     "metadata": {},
     "output_type": "execute_result"
    }
   ],
   "source": [
    "df = pd.read_csv('shuffled_900.csv')\n",
    "df.head()"
   ]
  },
  {
   "cell_type": "code",
   "execution_count": 25,
   "metadata": {},
   "outputs": [],
   "source": [
    "df = df.fillna('')\n",
    "df['lyrics'] = df.apply(lambda row: row['name'] if pd.isnull(row['lyrics']) else row['lyrics'], axis=1)\n",
    "lyrics_list = df['lyrics'].to_list()\n",
    "lyrics_name = df['name'].to_list()\n",
    "df['filtered_lyrics'] = [preprocess_lyrics(lyrics, song_name) for lyrics, song_name in zip(lyrics_list, lyrics_name)]\n",
    "\n",
    "df = df.dropna(subset=['filtered_lyrics']).reset_index(drop=True)\n",
    "preprocessed_lyrics_list = df['filtered_lyrics'].to_list()"
   ]
  },
  {
   "cell_type": "code",
   "execution_count": 27,
   "metadata": {},
   "outputs": [
    {
     "name": "stdout",
     "output_type": "stream",
     "text": [
      "Index(['popularity', 'length', 'danceability', 'acousticness', 'energy',\n",
      "       'instrumentalness', 'liveness', 'valence', 'loudness', 'speechiness',\n",
      "       'tempo', 'key', 'time_signature'],\n",
      "      dtype='object')\n"
     ]
    }
   ],
   "source": [
    "col_features = df.columns[6:-3]\n",
    "print(col_features)\n",
    "X = MinMaxScaler().fit_transform(df[col_features])\n",
    "Y = df['mood']\n",
    "label_encoder = LabelEncoder()\n",
    "y_encoded = label_encoder.fit_transform(Y)"
   ]
  },
  {
   "cell_type": "markdown",
   "metadata": {},
   "source": [
    "### XGBoost model"
   ]
  },
  {
   "cell_type": "code",
   "execution_count": 28,
   "metadata": {},
   "outputs": [],
   "source": [
    "min_df_list = [3]\n",
    "max_features_list = [250]\n",
    "\n",
    "models_pipeline = dict()\n",
    "models_pipeline['Xgboost'] = xgb.XGBClassifier(n_estimators=60, random_state=42)\n"
   ]
  },
  {
   "cell_type": "code",
   "execution_count": 29,
   "metadata": {},
   "outputs": [
    {
     "name": "stdout",
     "output_type": "stream",
     "text": [
      "Xgboost :  TF IDF (3, 250) : 1.0 :0.8222222222222222\n"
     ]
    }
   ],
   "source": [
    "text_file = open(\"model_results.txt\",\"w+\")\n",
    "\n",
    "for models_name in models_pipeline.keys():\n",
    "    for min_df_item in min_df_list:\n",
    "        for max_features_item in max_features_list:\n",
    "            tf_idf_vectorizer = TfidfVectorizer(min_df=min_df_item, max_features=max_features_item, strip_accents='unicode', \n",
    "                                  lowercase=True, analyzer='word', token_pattern=r'\\w{3,}', \n",
    "                                  ngram_range=(1, 1), use_idf=True, smooth_idf=True, \n",
    "                                  sublinear_tf=True, stop_words=\"english\")\n",
    "            tf_idf_vectorizer_pos = TfidfVectorizer(min_df=min_df_item, max_features=max_features_item, strip_accents='unicode', \n",
    "                                  lowercase=True, analyzer='word', token_pattern=r'\\w{3,}', \n",
    "                                  ngram_range=(1, 1), use_idf=True, smooth_idf=True, \n",
    "                                  sublinear_tf=True, stop_words=\"english\", tokenizer=POSTogging())\n",
    "            model = models_pipeline[models_name]\n",
    "            lyrics_tfidf_features = tf_idf_vectorizer.fit_transform(preprocessed_lyrics_list).toarray()\n",
    "            X_combined = np.concatenate((X, lyrics_tfidf_features), axis=1)\n",
    "            X_train, X_test, y_train, y_test = train_test_split(X_combined, y_encoded, test_size=0.25, random_state=42)\n",
    "            model.fit(X_train, y_train)\n",
    "            y_pred = model.predict(X_test)\n",
    "\n",
    "            train_accuracy = accuracy_score(model.predict(X_train), y_train)\n",
    "            test_accuracy = accuracy_score(y_pred, y_test)\n",
    "\n",
    "            stream = str(models_name) + \" :  TF IDF (\" + str(min_df_item) + \", \" + str(max_features_item) + \") : \" + str(train_accuracy) + \" :\" + str(test_accuracy)\n",
    "            print(stream)\n",
    "            text_file.write(stream + \"\\n\")\n",
    "text_file.close()"
   ]
  },
  {
   "cell_type": "markdown",
   "metadata": {},
   "source": [
    "### Logistic Regression"
   ]
  },
  {
   "cell_type": "code",
   "execution_count": 30,
   "metadata": {},
   "outputs": [
    {
     "name": "stdout",
     "output_type": "stream",
     "text": [
      "train accuracy: 0.8681481481481481\n",
      "test accuracy: 0.7555555555555555\n"
     ]
    }
   ],
   "source": [
    "y_train_encoded = y_train\n",
    "y_test_encoded = y_test\n",
    "model = LogisticRegression(solver='lbfgs', multi_class='auto')\n",
    "model.fit(X_train, y_train_encoded)\n",
    "y_pred = model.predict(X_test)\n",
    "\n",
    "train_accuracy = accuracy_score(model.predict(X_train), y_train_encoded)\n",
    "test_accuracy = accuracy_score(y_pred, y_test_encoded)\n",
    "\n",
    "print(\"train accuracy:\", train_accuracy)\n",
    "print(\"test accuracy:\", test_accuracy)"
   ]
  },
  {
   "cell_type": "code",
   "execution_count": 31,
   "metadata": {},
   "outputs": [],
   "source": [
    "import matplotlib.pyplot as plt\n",
    "def plot_confusion_matrix(cm, classes,\n",
    "                          normalize=False,\n",
    "                          title='Confusion matrix',\n",
    "                          cmap=plt.cm.Blues):\n",
    "    \"\"\"\n",
    "    This function prints and plots the confusion matrix.\n",
    "    Normalization can be applied by setting `normalize=True`.\n",
    "    Ref: https://scikit-learn.org/0.18/auto_examples/model_selection/plot_confusion_matrix.html\n",
    "    \"\"\"\n",
    "    plt.imshow(cm, interpolation='nearest', cmap=cmap)\n",
    "    plt.title(title)\n",
    "    plt.colorbar()\n",
    "    tick_marks = np.arange(len(classes))\n",
    "    plt.xticks(tick_marks, classes, rotation=45)\n",
    "    plt.yticks(tick_marks, classes)\n",
    "    if normalize:\n",
    "        cm = cm.astype('float') / cm.sum(axis=1)[:, np.newaxis]\n",
    "    thresh = cm.max() / 2.\n",
    "    for i, j in itertools.product(range(cm.shape[0]), range(cm.shape[1])):\n",
    "        plt.text(j, i, cm[i, j],\n",
    "                 horizontalalignment=\"center\",\n",
    "                 color=\"white\" if cm[i, j] > thresh else \"black\")\n",
    "    plt.tight_layout(pad=5)\n",
    "    plt.ylabel('True label')\n",
    "    plt.xlabel('Predicted label')"
   ]
  },
  {
   "cell_type": "code",
   "execution_count": 32,
   "metadata": {},
   "outputs": [
    {
     "data": {
      "image/png": "[encoded data removed]",
      "text/plain": [
       "<Figure size 640x480 with 2 Axes>"
      ]
     },
     "metadata": {},
     "output_type": "display_data"
    }
   ],
   "source": [
    "y_pred_decoded = label_encoder.inverse_transform(y_pred)\n",
    "\n",
    "y_test = label_encoder.inverse_transform(y_test_encoded)\n",
    "cnf_matrix = confusion_matrix(y_test, y_pred_decoded)\n",
    "plt.figure()\n",
    "plot_confusion_matrix(cnf_matrix, classes=label_encoder.classes_, title='Confusion Matrix')\n",
    "plt.show()"
   ]
  },
  {
   "cell_type": "code",
   "execution_count": 33,
   "metadata": {},
   "outputs": [
    {
     "name": "stdout",
     "output_type": "stream",
     "text": [
      "263\n"
     ]
    },
    {
     "data": {
      "image/png": "[encoded data removed]",
      "text/plain": [
       "<Figure size 1000x600 with 1 Axes>"
      ]
     },
     "metadata": {},
     "output_type": "display_data"
    }
   ],
   "source": [
    "#plotting the top20 coefficients\n",
    "coefficients = model.coef_[0]\n",
    "feature_names = [f'Feature {i}' for i in range(len(coefficients))]\n",
    "\n",
    "abs_coefficients = np.abs(coefficients)\n",
    "\n",
    "\n",
    "sorted_indices = np.argsort(abs_coefficients)[::-1]  \n",
    "print(len(sorted_indices))\n",
    "top_n = 20 \n",
    "for i in range(len(col_features)):\n",
    "    feature_names[i] = col_features[i]\n",
    "\n",
    "plt.figure(figsize=(10, 6))\n",
    "plt.barh(np.array(feature_names)[sorted_indices[:top_n]], coefficients[sorted_indices[:top_n]], color='skyblue')\n",
    "plt.xlabel('Coefficient Value')\n",
    "plt.title(f'Top {top_n} Most Important Features')\n",
    "plt.gca().invert_yaxis()\n",
    "plt.show()"
   ]
  },
  {
   "cell_type": "markdown",
   "metadata": {},
   "source": [
    "### CatBoost model"
   ]
  },
  {
   "cell_type": "code",
   "execution_count": 34,
   "metadata": {},
   "outputs": [
    {
     "name": "stdout",
     "output_type": "stream",
     "text": [
      "Accuracy: 0.79\n",
      "\n",
      "Classification Report:\n",
      "              precision    recall  f1-score   support\n",
      "\n",
      "           0       0.98      0.77      0.86        56\n",
      "           1       0.70      0.86      0.77        51\n",
      "           2       0.78      0.65      0.71        60\n",
      "           3       0.75      0.88      0.81        58\n",
      "\n",
      "    accuracy                           0.79       225\n",
      "   macro avg       0.80      0.79      0.79       225\n",
      "weighted avg       0.80      0.79      0.79       225\n",
      "\n"
     ]
    },
    {
     "name": "stderr",
     "output_type": "stream",
     "text": [
      "/home/sathu/.local/lib/python3.10/site-packages/sklearn/preprocessing/_label.py:153: DataConversionWarning: A column-vector y was passed when a 1d array was expected. Please change the shape of y to (n_samples, ), for example using ravel().\n",
      "  y = column_or_1d(y, warn=True)\n"
     ]
    },
    {
     "data": {
      "image/png": "[encoded data removed]",
      "text/plain": [
       "<Figure size 640x480 with 2 Axes>"
      ]
     },
     "metadata": {},
     "output_type": "display_data"
    }
   ],
   "source": [
    "import catboost as cb\n",
    "from sklearn.datasets import make_classification\n",
    "from sklearn.model_selection import train_test_split\n",
    "from sklearn.metrics import accuracy_score, classification_report\n",
    "\n",
    "catboost_classifier = cb.CatBoostClassifier(iterations=1000, depth=6, learning_rate=0.05, loss_function='MultiClass')\n",
    "catboost_classifier.fit(X_train, y_train_encoded, eval_set=(X_test, y_test_encoded), verbose=False)\n",
    "\n",
    "predictions = catboost_classifier.predict(X_test)\n",
    "accuracy = accuracy_score(y_test_encoded, predictions)\n",
    "print(f\"Accuracy: {accuracy:.2f}\")\n",
    "\n",
    "print(\"\\nClassification Report:\")\n",
    "print(classification_report(y_test_encoded, predictions))\n",
    "\n",
    "y_pred_decoded = label_encoder.inverse_transform(predictions)\n",
    "y_test = label_encoder.inverse_transform(y_test_encoded)\n",
    "\n",
    "cnf_matrix_catboost = confusion_matrix(y_test, y_pred_decoded)\n",
    "plt.figure()\n",
    "plot_confusion_matrix(cnf_matrix_catboost, classes=label_encoder.classes_, title='Confusion Matrix')\n",
    "plt.show()\n"
   ]
  },
  {
   "cell_type": "markdown",
   "metadata": {},
   "source": [
    "### XGBoost model"
   ]
  },
  {
   "cell_type": "code",
   "execution_count": 35,
   "metadata": {},
   "outputs": [
    {
     "name": "stdout",
     "output_type": "stream",
     "text": [
      "XGBoost Train Accuracy: 1.00\n",
      "XGBoost Test Accuracy: 0.82\n"
     ]
    },
    {
     "data": {
      "image/png": "[encoded data removed]",
      "text/plain": [
       "<Figure size 640x480 with 2 Axes>"
      ]
     },
     "metadata": {},
     "output_type": "display_data"
    }
   ],
   "source": [
    "\n",
    "xgb_classifier = xgb.XGBClassifier(n_estimators=60, random_state=42)\n",
    "xgb_classifier.fit(X_train, y_train_encoded)\n",
    "\n",
    "xgb_train_preds = xgb_classifier.predict(X_train)\n",
    "xgb_predictions = xgb_classifier.predict(X_test)\n",
    "accuracy_xgb_train = accuracy_score(y_train_encoded, xgb_train_preds)\n",
    "accuracy_xgb = accuracy_score(y_test_encoded, xgb_predictions)\n",
    "print(f\"XGBoost Train Accuracy: {accuracy_xgb_train:.2f}\")\n",
    "print(f\"XGBoost Test Accuracy: {accuracy_xgb:.2f}\")\n",
    "\n",
    "y_pred_decoded = label_encoder.inverse_transform(xgb_predictions)\n",
    "y_test = label_encoder.inverse_transform(y_test_encoded)\n",
    "\n",
    "cnf_matrix_xgb = confusion_matrix(y_test, y_pred_decoded)\n",
    "plt.figure()\n",
    "plot_confusion_matrix(cnf_matrix_xgb, classes=label_encoder.classes_, title='Confusion Matrix')\n",
    "plt.show()\n"
   ]
  },
  {
   "cell_type": "markdown",
   "metadata": {},
   "source": [
    "### Neural Networks\n",
    "#### 2 linear layers"
   ]
  },
  {
   "cell_type": "code",
   "execution_count": 36,
   "metadata": {},
   "outputs": [
    {
     "name": "stdout",
     "output_type": "stream",
     "text": [
      "Epoch [1/50] Loss: 0.285794198513031\n",
      "Epoch [2/50] Loss: 0.14872299134731293\n",
      "Epoch [3/50] Loss: 0.49235799908638\n",
      "Epoch [4/50] Loss: 0.0652693584561348\n",
      "Epoch [5/50] Loss: 0.03343668952584267\n",
      "Epoch [6/50] Loss: 0.22672224044799805\n",
      "Epoch [7/50] Loss: 0.04445534944534302\n",
      "Epoch [8/50] Loss: 0.12855158746242523\n",
      "Epoch [9/50] Loss: 0.05668136477470398\n",
      "Epoch [10/50] Loss: 0.09348255395889282\n",
      "Epoch [11/50] Loss: 0.0003679718356579542\n",
      "Epoch [12/50] Loss: 0.011079584248363972\n",
      "Epoch [13/50] Loss: 0.061164647340774536\n",
      "Epoch [14/50] Loss: 0.004318702965974808\n",
      "Epoch [15/50] Loss: 0.03073415905237198\n",
      "Epoch [16/50] Loss: 0.0018879497656598687\n",
      "Epoch [17/50] Loss: 0.0001800946774892509\n",
      "Epoch [18/50] Loss: 0.001668443321250379\n",
      "Epoch [19/50] Loss: 0.022457808256149292\n",
      "Epoch [20/50] Loss: 0.06833411753177643\n",
      "Epoch [21/50] Loss: 0.5059714913368225\n",
      "Epoch [22/50] Loss: 0.05664673447608948\n",
      "Epoch [23/50] Loss: 0.005889730527997017\n",
      "Epoch [24/50] Loss: 0.00018212241411674768\n",
      "Epoch [25/50] Loss: 0.0023492348846048117\n",
      "Epoch [26/50] Loss: 0.3252214193344116\n",
      "Epoch [27/50] Loss: 0.0001362816256005317\n",
      "Epoch [28/50] Loss: 0.0005045345169492066\n",
      "Epoch [29/50] Loss: 0.014471367001533508\n",
      "Epoch [30/50] Loss: 0.3620428740978241\n",
      "Epoch [31/50] Loss: 0.007637974340468645\n",
      "Epoch [32/50] Loss: 0.008262024261057377\n",
      "Epoch [33/50] Loss: 0.25613662600517273\n",
      "Epoch [34/50] Loss: 0.06714911013841629\n",
      "Epoch [35/50] Loss: 0.005640546325594187\n",
      "Epoch [36/50] Loss: 0.0009213553857989609\n",
      "Epoch [37/50] Loss: 0.0006386220338754356\n",
      "Epoch [38/50] Loss: 0.0007456992170773447\n",
      "Epoch [39/50] Loss: 0.0002311086718691513\n",
      "Epoch [40/50] Loss: 0.007705361116677523\n",
      "Epoch [41/50] Loss: 0.00881295744329691\n",
      "Epoch [42/50] Loss: 0.15085867047309875\n",
      "Epoch [43/50] Loss: 1.9669285393320024e-05\n",
      "Epoch [44/50] Loss: 0.45250919461250305\n",
      "Epoch [45/50] Loss: 0.9412160515785217\n",
      "Epoch [46/50] Loss: 0.06714945286512375\n",
      "Epoch [47/50] Loss: 5.1177852583350614e-05\n",
      "Epoch [48/50] Loss: 0.16533423960208893\n",
      "Epoch [49/50] Loss: 0.1517934501171112\n",
      "Epoch [50/50] Loss: 0.0001287244085688144\n",
      "Accuracy on test set: 0.70\n"
     ]
    },
    {
     "data": {
      "image/png": "[encoded data removed]",
      "text/plain": [
       "<Figure size 640x480 with 2 Axes>"
      ]
     },
     "metadata": {},
     "output_type": "display_data"
    }
   ],
   "source": [
    "import torch\n",
    "import torch.nn as nn\n",
    "import torch.optim as optim\n",
    "from torch.utils.data import DataLoader, TensorDataset\n",
    "from sklearn.datasets import make_classification\n",
    "from sklearn.model_selection import train_test_split\n",
    "from sklearn.preprocessing import StandardScaler\n",
    "\n",
    "\n",
    "X_train_tensor = torch.FloatTensor(X_train)\n",
    "X_test_tensor = torch.FloatTensor(X_test)\n",
    "y_train_tensor = torch.LongTensor(y_train_encoded)\n",
    "y_test_tensor = torch.LongTensor(y_test_encoded)\n",
    "\n",
    "train_dataset = TensorDataset(X_train_tensor, y_train_tensor)\n",
    "test_dataset = TensorDataset(X_test_tensor, y_test_tensor)\n",
    "\n",
    "train_loader = DataLoader(train_dataset, batch_size=32, shuffle=True)\n",
    "test_loader = DataLoader(test_dataset, batch_size=32)\n",
    "\n",
    "class NeuralNetwork(nn.Module):\n",
    "    def __init__(self, input_size, hidden_size, num_classes):\n",
    "        super(NeuralNetwork, self).__init__()\n",
    "        self.fc1 = nn.Linear(input_size, hidden_size)\n",
    "        self.relu = nn.ReLU()\n",
    "        self.fc2 = nn.Linear(hidden_size, num_classes)\n",
    "    \n",
    "    def forward(self, x):\n",
    "        x = self.fc1(x)\n",
    "        x = self.relu(x)\n",
    "        x = self.fc2(x)\n",
    "        return x\n",
    "\n",
    "input_size = X_combined.shape[1]\n",
    "hidden_size = 300\n",
    "num_classes = 4  \n",
    "model = NeuralNetwork(input_size, hidden_size, num_classes)\n",
    "\n",
    "criterion = nn.CrossEntropyLoss()\n",
    "optimizer = optim.Adam(model.parameters(), lr=0.01)\n",
    "\n",
    "num_epochs = 50\n",
    "for epoch in range(num_epochs):\n",
    "    model.train()\n",
    "    for i, (inputs, targets) in enumerate(train_loader):\n",
    "        optimizer.zero_grad()\n",
    "        outputs = model(inputs)\n",
    "        loss = criterion(outputs, targets)\n",
    "        loss.backward()\n",
    "        optimizer.step()\n",
    "    \n",
    "    print(f\"Epoch [{epoch+1}/{num_epochs}] Loss: {loss.item()}\")\n",
    "\n",
    "model.eval()\n",
    "correct = 0\n",
    "total = 0\n",
    "y_preds = []\n",
    "y_true = []\n",
    "with torch.no_grad():\n",
    "    for inputs, targets in test_loader:\n",
    "        outputs = model(inputs)\n",
    "        _, predicted = torch.max(outputs, 1)\n",
    "        total += targets.size(0)\n",
    "        correct += (predicted == targets).sum().item()\n",
    "        y_preds.extend(predicted.tolist())\n",
    "        y_true.extend(targets.tolist())\n",
    "\n",
    "\n",
    "accuracy = correct / total\n",
    "print(f\"Accuracy on test set: {accuracy:.2f}\")\n",
    "\n",
    "\n",
    "y_pred_decoded = label_encoder.inverse_transform(y_preds)\n",
    "y_test = label_encoder.inverse_transform(y_true)\n",
    "\n",
    "cnf_matrix_nn2 = confusion_matrix(y_test, y_pred_decoded)\n",
    "plt.figure()\n",
    "plot_confusion_matrix(cnf_matrix_nn2, classes=label_encoder.classes_, title='Confusion Matrix')\n",
    "plt.show()"
   ]
  },
  {
   "cell_type": "markdown",
   "metadata": {},
   "source": [
    "### Convolutional Neural Network"
   ]
  },
  {
   "cell_type": "code",
   "execution_count": 37,
   "metadata": {},
   "outputs": [
    {
     "name": "stdout",
     "output_type": "stream",
     "text": [
      "(900, 263) (675, 263)\n",
      "Epoch [1/80] Loss: 0.9216254353523254\n",
      "Epoch [2/80] Loss: 1.4863954782485962\n",
      "Epoch [3/80] Loss: 0.38739630579948425\n",
      "Epoch [4/80] Loss: 0.22613359987735748\n",
      "Epoch [5/80] Loss: 0.6599363684654236\n",
      "Epoch [6/80] Loss: 0.6469395160675049\n",
      "Epoch [7/80] Loss: 0.06763454526662827\n",
      "Epoch [8/80] Loss: 0.10333504527807236\n",
      "Epoch [9/80] Loss: 0.27884945273399353\n",
      "Epoch [10/80] Loss: 0.00775673845782876\n",
      "Epoch [11/80] Loss: 0.3928401470184326\n",
      "Epoch [12/80] Loss: 1.4007467031478882\n",
      "Epoch [13/80] Loss: 0.12102780491113663\n",
      "Epoch [14/80] Loss: 0.6253753304481506\n",
      "Epoch [15/80] Loss: 0.1356147825717926\n",
      "Epoch [16/80] Loss: 0.02642340399324894\n",
      "Epoch [17/80] Loss: 0.018239425495266914\n",
      "Epoch [18/80] Loss: 0.004721537698060274\n",
      "Epoch [19/80] Loss: 0.13986292481422424\n",
      "Epoch [20/80] Loss: 0.022839590907096863\n",
      "Epoch [21/80] Loss: 0.16556981205940247\n",
      "Epoch [22/80] Loss: 0.0211963951587677\n",
      "Epoch [23/80] Loss: 0.009084685705602169\n",
      "Epoch [24/80] Loss: 0.0007311553345061839\n",
      "Epoch [25/80] Loss: 0.0003976680163759738\n",
      "Epoch [26/80] Loss: 0.0012158413883298635\n",
      "Epoch [27/80] Loss: 0.001392773468978703\n",
      "Epoch [28/80] Loss: 0.005381012335419655\n",
      "Epoch [29/80] Loss: 0.001217692974023521\n",
      "Epoch [30/80] Loss: 0.008256153203547001\n",
      "Epoch [31/80] Loss: 0.00012264878023415804\n",
      "Epoch [32/80] Loss: 0.2571429908275604\n",
      "Epoch [33/80] Loss: 0.0020743594504892826\n",
      "Epoch [34/80] Loss: 1.1404255928937346e-05\n",
      "Epoch [35/80] Loss: 0.000326811132254079\n",
      "Epoch [36/80] Loss: 0.0004070864524692297\n",
      "Epoch [37/80] Loss: 0.0014439959777519107\n",
      "Epoch [38/80] Loss: 0.05526982620358467\n",
      "Epoch [39/80] Loss: 6.126831431174651e-05\n",
      "Epoch [40/80] Loss: 0.01167813315987587\n",
      "Epoch [41/80] Loss: 0.0009909430518746376\n",
      "Epoch [42/80] Loss: 0.0012639035703614354\n",
      "Epoch [43/80] Loss: 0.0010105398250743747\n",
      "Epoch [44/80] Loss: 0.00018597634334582835\n",
      "Epoch [45/80] Loss: 0.0012393005890771747\n",
      "Epoch [46/80] Loss: 3.31385490426328e-05\n",
      "Epoch [47/80] Loss: 0.179044708609581\n",
      "Epoch [48/80] Loss: 1.2874388630734757e-05\n",
      "Epoch [49/80] Loss: 0.023937620222568512\n",
      "Epoch [50/80] Loss: 0.0007538357167504728\n",
      "Epoch [51/80] Loss: 3.178912777457299e-07\n",
      "Epoch [52/80] Loss: 1.2516752576630097e-05\n",
      "Epoch [53/80] Loss: 5.7019020459847525e-05\n",
      "Epoch [54/80] Loss: 0.0001142623950727284\n",
      "Epoch [55/80] Loss: 0.00012447098561096936\n",
      "Epoch [56/80] Loss: 0.0010146584827452898\n",
      "Epoch [57/80] Loss: 0.00012722313113044947\n",
      "Epoch [58/80] Loss: 0.0007138816290535033\n",
      "Epoch [59/80] Loss: 0.0004347562789916992\n",
      "Epoch [60/80] Loss: 2.7815488579108205e-07\n",
      "Epoch [61/80] Loss: 3.3775795600377023e-06\n",
      "Epoch [62/80] Loss: 0.0002000233653234318\n",
      "Epoch [63/80] Loss: 0.0007439908222295344\n",
      "Epoch [64/80] Loss: 5.12597171109519e-06\n",
      "Epoch [65/80] Loss: 2.582859224276035e-06\n",
      "Epoch [66/80] Loss: 2.7934132958762348e-05\n",
      "Epoch [67/80] Loss: 5.1852384785888717e-05\n",
      "Epoch [68/80] Loss: 6.448873318731785e-05\n",
      "Epoch [69/80] Loss: 2.4715453037060797e-05\n",
      "Epoch [70/80] Loss: 6.035419937688857e-05\n",
      "Epoch [71/80] Loss: 0.0010446296073496342\n",
      "Epoch [72/80] Loss: 0.000696389761287719\n",
      "Epoch [73/80] Loss: 0.00013662576384376734\n",
      "Epoch [74/80] Loss: 0.00018200755584985018\n",
      "Epoch [75/80] Loss: 0.0005964944139122963\n",
      "Epoch [76/80] Loss: 5.761290594819002e-05\n",
      "Epoch [77/80] Loss: 0.00012463297753129154\n",
      "Epoch [78/80] Loss: 0.0018237762851640582\n",
      "Epoch [79/80] Loss: 9.047306230058894e-05\n",
      "Epoch [80/80] Loss: 0.000280669511994347\n",
      "Accuracy on test set: 0.73\n"
     ]
    },
    {
     "data": {
      "image/png": "[encoded data removed]",
      "text/plain": [
       "<Figure size 640x480 with 2 Axes>"
      ]
     },
     "metadata": {},
     "output_type": "display_data"
    }
   ],
   "source": [
    "import torch\n",
    "import torch.nn as nn\n",
    "import torch.optim as optim\n",
    "from torch.utils.data import DataLoader, TensorDataset\n",
    "from sklearn.datasets import make_classification\n",
    "from sklearn.model_selection import train_test_split\n",
    "from sklearn.preprocessing import StandardScaler\n",
    "\n",
    "scaler = StandardScaler()\n",
    "X1 = scaler.fit_transform(df[col_features])\n",
    "X_combined1 = np.concatenate((X1, lyrics_tfidf_features), axis=1)\n",
    "X_train, X_test, y_train_encoded, y_test_encoded = train_test_split(X_combined1, y_encoded, test_size=0.25, random_state=42)\n",
    "print(X_combined1.shape, X_train.shape)\n",
    "\n",
    "X_train_tensor = torch.FloatTensor(X_train)\n",
    "X_test_tensor = torch.FloatTensor(X_test)\n",
    "y_train_tensor = torch.LongTensor(y_train_encoded)\n",
    "y_test_tensor = torch.LongTensor(y_test_encoded)\n",
    "\n",
    "train_dataset = TensorDataset(X_train_tensor, y_train_tensor)\n",
    "test_dataset = TensorDataset(X_test_tensor, y_test_tensor)\n",
    "\n",
    "train_loader = DataLoader(train_dataset, batch_size=32, shuffle=True)\n",
    "test_loader = DataLoader(test_dataset, batch_size=32)\n",
    "\n",
    "class ConvNet(nn.Module):\n",
    "    def __init__(self, input_size, num_classes):\n",
    "        super(ConvNet, self).__init__()\n",
    "        self.input_size = input_size \n",
    "        self.conv1 = nn.Conv1d(in_channels=1, out_channels=16, kernel_size=3)\n",
    "        self.relu = nn.ReLU()\n",
    "        self.pool = nn.MaxPool1d(kernel_size=2)\n",
    "        conv_output_size = ((input_size - 2) // 2) * 16\n",
    "        self.fc1 = nn.Linear(conv_output_size, 512)\n",
    "        self.fc2 = nn.Linear(512, num_classes)\n",
    "\n",
    "    def forward(self, x):\n",
    "        x = x.unsqueeze(1)\n",
    "        x = self.conv1(x)\n",
    "        x = self.relu(x)\n",
    "        x = self.pool(x)\n",
    "        x = x.view(-1, self.num_flat_features(x))\n",
    "        x = self.fc1(x)\n",
    "        x = self.relu(x)\n",
    "        x = self.fc2(x)\n",
    "        return x\n",
    "\n",
    "    def num_flat_features(self, x):\n",
    "        size = x.size()[1:] \n",
    "        num_features = 1\n",
    "        for s in size:\n",
    "            num_features *= s\n",
    "        return num_features\n",
    "\n",
    "input_size = X_combined1.shape[1]\n",
    "num_classes = 4 \n",
    "model = ConvNet(input_size, num_classes)\n",
    "\n",
    "criterion = nn.CrossEntropyLoss()\n",
    "optimizer = optim.Adam(model.parameters(), lr=0.005)\n",
    "\n",
    "num_epochs = 80\n",
    "for epoch in range(num_epochs):\n",
    "    model.train()\n",
    "    for i, (inputs, targets) in enumerate(train_loader):\n",
    "        optimizer.zero_grad()\n",
    "        outputs = model(inputs)\n",
    "        loss = criterion(outputs, targets)\n",
    "        loss.backward()\n",
    "        optimizer.step()\n",
    "\n",
    "    print(f\"Epoch [{epoch+1}/{num_epochs}] Loss: {loss.item()}\")\n",
    "\n",
    "model.eval()\n",
    "correct = 0\n",
    "total = 0\n",
    "y_preds2 = []\n",
    "y_true2 = []\n",
    "with torch.no_grad():\n",
    "    for inputs, targets in test_loader:\n",
    "        outputs = model(inputs)\n",
    "        _, predicted = torch.max(outputs, 1)\n",
    "        total += targets.size(0)\n",
    "        correct += (predicted == targets).sum().item()\n",
    "        y_preds2.extend(predicted.tolist())\n",
    "        y_true2.extend(targets.tolist())\n",
    "\n",
    "accuracy = correct / total\n",
    "print(f\"Accuracy on test set: {accuracy:.2f}\")\n",
    "\n",
    "y_pred_decoded = label_encoder.inverse_transform(y_preds2)\n",
    "y_test = label_encoder.inverse_transform(y_true2)\n",
    "\n",
    "cnf_matrix_cnn = confusion_matrix(y_test, y_pred_decoded)\n",
    "plt.figure()\n",
    "plot_confusion_matrix(cnf_matrix_cnn, classes=label_encoder.classes_, title='Confusion Matrix')\n",
    "plt.show()\n"
   ]
  },
  {
   "cell_type": "markdown",
   "metadata": {},
   "source": [
    "### Neural Networks\n",
    "#### 3 linear layers"
   ]
  },
  {
   "cell_type": "code",
   "execution_count": 38,
   "metadata": {},
   "outputs": [
    {
     "name": "stdout",
     "output_type": "stream",
     "text": [
      "Epoch [1/70] Loss: 1.0728548765182495\n",
      "Epoch [2/70] Loss: 0.9338617920875549\n",
      "Epoch [3/70] Loss: 0.2818892300128937\n",
      "Epoch [4/70] Loss: 0.07160655409097672\n",
      "Epoch [5/70] Loss: 0.33207812905311584\n",
      "Epoch [6/70] Loss: 0.000525368785019964\n",
      "Epoch [7/70] Loss: 0.018390903249382973\n",
      "Epoch [8/70] Loss: 0.0003776891389861703\n",
      "Epoch [9/70] Loss: 0.01197571400552988\n",
      "Epoch [10/70] Loss: 0.010660573840141296\n",
      "Epoch [11/70] Loss: 0.01150194089859724\n",
      "Epoch [12/70] Loss: 0.0008703813073225319\n",
      "Epoch [13/70] Loss: 0.010046311654150486\n",
      "Epoch [14/70] Loss: 1.0331458497603307e-06\n",
      "Epoch [15/70] Loss: 1.6768490240792744e-05\n",
      "Epoch [16/70] Loss: 0.02153349108994007\n",
      "Epoch [17/70] Loss: 2.3563081413158216e-05\n",
      "Epoch [18/70] Loss: 0.000965984130743891\n",
      "Epoch [19/70] Loss: 0.011462315917015076\n",
      "Epoch [20/70] Loss: 0.0009884192841127515\n",
      "Epoch [21/70] Loss: 0.0009181743953377008\n",
      "Epoch [22/70] Loss: 0.07708292454481125\n",
      "Epoch [23/70] Loss: 0.001255554030649364\n",
      "Epoch [24/70] Loss: 0.00047307819477282465\n",
      "Epoch [25/70] Loss: 0.0031826843041926622\n",
      "Epoch [26/70] Loss: 0.00783227477222681\n",
      "Epoch [27/70] Loss: 2.872876029869076e-05\n",
      "Epoch [28/70] Loss: 7.470396212738706e-06\n",
      "Epoch [29/70] Loss: 2.8966636818950064e-05\n",
      "Epoch [30/70] Loss: 0.0005412101745605469\n",
      "Epoch [31/70] Loss: 0.0009140940383076668\n",
      "Epoch [32/70] Loss: 0.0011113161453977227\n",
      "Epoch [33/70] Loss: 0.0002584648609627038\n",
      "Epoch [34/70] Loss: 3.413203376112506e-05\n",
      "Epoch [35/70] Loss: 0.00037898647133260965\n",
      "Epoch [36/70] Loss: 1.970868652279023e-05\n",
      "Epoch [37/70] Loss: 4.609399638866307e-06\n",
      "Epoch [38/70] Loss: 1.8318152797291987e-05\n",
      "Epoch [39/70] Loss: 4.092699964530766e-05\n",
      "Epoch [40/70] Loss: 0.00020914914784952998\n",
      "Epoch [41/70] Loss: 0.00019385739869903773\n",
      "Epoch [42/70] Loss: 0.0018098134314641356\n",
      "Epoch [43/70] Loss: 0.0004079233331140131\n",
      "Epoch [44/70] Loss: 9.536734637549671e-07\n",
      "Epoch [45/70] Loss: 0.00018801947589963675\n",
      "Epoch [46/70] Loss: 1.1364451893314254e-05\n",
      "Epoch [47/70] Loss: 8.590059587731957e-05\n",
      "Epoch [48/70] Loss: 1.2715561751974747e-05\n",
      "Epoch [49/70] Loss: 0.0006069432129152119\n",
      "Epoch [50/70] Loss: 3.12711090373341e-05\n",
      "Epoch [51/70] Loss: 2.1854966689716093e-06\n",
      "Epoch [52/70] Loss: 3.496787940093782e-06\n",
      "Epoch [53/70] Loss: 3.973642748178463e-08\n",
      "Epoch [54/70] Loss: 1.7881360463434248e-06\n",
      "Epoch [55/70] Loss: 2.2728740077582188e-05\n",
      "Epoch [56/70] Loss: 9.13925305212615e-06\n",
      "Epoch [57/70] Loss: 7.94728478581419e-08\n",
      "Epoch [58/70] Loss: 2.8212798497406766e-06\n",
      "Epoch [59/70] Loss: 0.0\n",
      "Epoch [60/70] Loss: 1.6728687114664353e-05\n",
      "Epoch [61/70] Loss: 5.44354879821185e-05\n",
      "Epoch [62/70] Loss: 6.755189474461076e-07\n",
      "Epoch [63/70] Loss: 4.490198534767842e-06\n",
      "Epoch [64/70] Loss: 5.0463961088098586e-05\n",
      "Epoch [65/70] Loss: 1.6689258472979418e-06\n",
      "Epoch [66/70] Loss: 4.808080575458007e-06\n",
      "Epoch [67/70] Loss: 5.6027893151622266e-06\n",
      "Epoch [68/70] Loss: 1.998683001147583e-05\n",
      "Epoch [69/70] Loss: 3.973642748178463e-08\n",
      "Epoch [70/70] Loss: 1.354987489321502e-05\n",
      "Accuracy on test set: 0.73\n"
     ]
    },
    {
     "data": {
      "image/png": "[encoded data removed]",
      "text/plain": [
       "<Figure size 640x480 with 2 Axes>"
      ]
     },
     "metadata": {},
     "output_type": "display_data"
    }
   ],
   "source": [
    "import torch\n",
    "import torch.nn as nn\n",
    "import torch.optim as optim\n",
    "from torch.utils.data import DataLoader, TensorDataset\n",
    "from sklearn.datasets import make_classification\n",
    "from sklearn.model_selection import train_test_split\n",
    "from sklearn.preprocessing import StandardScaler\n",
    "\n",
    "\n",
    "X_train_tensor = torch.FloatTensor(X_train)\n",
    "X_test_tensor = torch.FloatTensor(X_test)\n",
    "y_train_tensor = torch.LongTensor(y_train_encoded)\n",
    "y_test_tensor = torch.LongTensor(y_test_encoded)\n",
    "\n",
    "train_dataset = TensorDataset(X_train_tensor, y_train_tensor)\n",
    "test_dataset = TensorDataset(X_test_tensor, y_test_tensor)\n",
    "\n",
    "train_loader = DataLoader(train_dataset, batch_size=32, shuffle=True)\n",
    "test_loader = DataLoader(test_dataset, batch_size=32)\n",
    "\n",
    "class NeuralNetwork(nn.Module):\n",
    "    def __init__(self, input_size, hidden_size1, hidden_size2, num_classes):\n",
    "        super(NeuralNetwork, self).__init__()\n",
    "        self.fc1 = nn.Linear(input_size, hidden_size1)\n",
    "        self.relu = nn.ReLU()\n",
    "        self.fc2 = nn.Linear(hidden_size1, hidden_size2)\n",
    "        self.fc3 = nn.Linear(hidden_size2, num_classes)\n",
    "    \n",
    "    def forward(self, x):\n",
    "        x = self.fc1(x)\n",
    "        x = self.relu(x)\n",
    "        x = self.fc2(x)\n",
    "        x = self.relu(x)\n",
    "        x = self.fc3(x)\n",
    "        return x\n",
    "\n",
    "input_size = X_combined.shape[1]\n",
    "hidden_size1 = 128\n",
    "hidden_size2 = 256\n",
    "num_classes = 4  \n",
    "model = NeuralNetwork(input_size, hidden_size1, hidden_size2, num_classes)\n",
    "\n",
    "criterion = nn.CrossEntropyLoss()\n",
    "optimizer = optim.Adam(model.parameters(), lr=0.005)\n",
    "\n",
    "num_epochs = 70\n",
    "for epoch in range(num_epochs):\n",
    "    model.train()\n",
    "    for i, (inputs, targets) in enumerate(train_loader):\n",
    "        optimizer.zero_grad()\n",
    "        outputs = model(inputs)\n",
    "        loss = criterion(outputs, targets)\n",
    "        loss.backward()\n",
    "        optimizer.step()\n",
    "    \n",
    "    print(f\"Epoch [{epoch+1}/{num_epochs}] Loss: {loss.item()}\")\n",
    "\n",
    "model.eval()\n",
    "correct = 0\n",
    "total = 0\n",
    "y_preds = []\n",
    "y_true = []\n",
    "with torch.no_grad():\n",
    "    for inputs, targets in test_loader:\n",
    "        outputs = model(inputs)\n",
    "        _, predicted = torch.max(outputs, 1)\n",
    "        total += targets.size(0)\n",
    "        correct += (predicted == targets).sum().item()\n",
    "        y_preds.extend(predicted.tolist())\n",
    "        y_true.extend(targets.tolist())\n",
    "\n",
    "\n",
    "accuracy = correct / total\n",
    "print(f\"Accuracy on test set: {accuracy:.2f}\")\n",
    "\n",
    "\n",
    "y_pred_decoded = label_encoder.inverse_transform(y_preds)\n",
    "y_test = label_encoder.inverse_transform(y_true)\n",
    "\n",
    "cnf_matrix_nn2 = confusion_matrix(y_test, y_pred_decoded)\n",
    "plt.figure()\n",
    "plot_confusion_matrix(cnf_matrix_nn2, classes=label_encoder.classes_, title='Confusion Matrix')\n",
    "plt.show()"
   ]
  },
  {
   "cell_type": "code",
   "execution_count": 39,
   "metadata": {},
   "outputs": [],
   "source": [
    "### Neural Network\n",
    "#### 4 linear layers"
   ]
  },
  {
   "cell_type": "code",
   "execution_count": 40,
   "metadata": {},
   "outputs": [
    {
     "name": "stdout",
     "output_type": "stream",
     "text": [
      "Epoch [1/120] Loss: 1.3441033363342285\n",
      "Epoch [2/120] Loss: 1.3444095849990845\n",
      "Epoch [3/120] Loss: 1.2007075548171997\n",
      "Epoch [4/120] Loss: 1.2532367706298828\n",
      "Epoch [5/120] Loss: 1.0459250211715698\n",
      "Epoch [6/120] Loss: 0.6992262005805969\n",
      "Epoch [7/120] Loss: 0.8886575102806091\n",
      "Epoch [8/120] Loss: 0.40368592739105225\n",
      "Epoch [9/120] Loss: 0.5343297123908997\n",
      "Epoch [10/120] Loss: 0.6587429642677307\n",
      "Epoch [11/120] Loss: 0.17611712217330933\n",
      "Epoch [12/120] Loss: 0.24789105355739594\n",
      "Epoch [13/120] Loss: 1.39144766330719\n",
      "Epoch [14/120] Loss: 0.60773104429245\n",
      "Epoch [15/120] Loss: 0.2024540901184082\n",
      "Epoch [16/120] Loss: 0.2180514931678772\n",
      "Epoch [17/120] Loss: 0.10356056690216064\n",
      "Epoch [18/120] Loss: 0.2707926630973816\n",
      "Epoch [19/120] Loss: 0.19275666773319244\n",
      "Epoch [20/120] Loss: 0.37964606285095215\n",
      "Epoch [21/120] Loss: 0.2463512271642685\n",
      "Epoch [22/120] Loss: 0.15441077947616577\n",
      "Epoch [23/120] Loss: 0.15659423172473907\n",
      "Epoch [24/120] Loss: 0.007903835736215115\n",
      "Epoch [25/120] Loss: 0.5962662100791931\n",
      "Epoch [26/120] Loss: 0.140040323138237\n",
      "Epoch [27/120] Loss: 0.15863756835460663\n",
      "Epoch [28/120] Loss: 0.13919617235660553\n",
      "Epoch [29/120] Loss: 0.5563011765480042\n",
      "Epoch [30/120] Loss: 0.12748561799526215\n",
      "Epoch [31/120] Loss: 0.7994785904884338\n",
      "Epoch [32/120] Loss: 0.03338512033224106\n",
      "Epoch [33/120] Loss: 0.19204963743686676\n",
      "Epoch [34/120] Loss: 0.2364615947008133\n",
      "Epoch [35/120] Loss: 0.12421206384897232\n",
      "Epoch [36/120] Loss: 0.14573225378990173\n",
      "Epoch [37/120] Loss: 0.5297502875328064\n",
      "Epoch [38/120] Loss: 0.8508800864219666\n",
      "Epoch [39/120] Loss: 0.13950037956237793\n",
      "Epoch [40/120] Loss: 0.050246696919202805\n",
      "Epoch [41/120] Loss: 0.17094148695468903\n",
      "Epoch [42/120] Loss: 0.11822996288537979\n",
      "Epoch [43/120] Loss: 0.015566211193799973\n",
      "Epoch [44/120] Loss: 0.05527377128601074\n",
      "Epoch [45/120] Loss: 0.0455717109143734\n",
      "Epoch [46/120] Loss: 0.18487919867038727\n",
      "Epoch [47/120] Loss: 0.027629859745502472\n",
      "Epoch [48/120] Loss: 0.10984089225530624\n",
      "Epoch [49/120] Loss: 0.010132595896720886\n",
      "Epoch [50/120] Loss: 0.08542218059301376\n",
      "Epoch [51/120] Loss: 0.34211549162864685\n",
      "Epoch [52/120] Loss: 0.019262412562966347\n",
      "Epoch [53/120] Loss: 0.010591533966362476\n",
      "Epoch [54/120] Loss: 0.004366714973002672\n",
      "Epoch [55/120] Loss: 0.0076010338962078094\n",
      "Epoch [56/120] Loss: 0.039553362876176834\n",
      "Epoch [57/120] Loss: 0.17006660997867584\n",
      "Epoch [58/120] Loss: 0.008047518320381641\n",
      "Epoch [59/120] Loss: 0.09357848763465881\n",
      "Epoch [60/120] Loss: 0.3845653831958771\n",
      "Epoch [61/120] Loss: 0.016211871057748795\n",
      "Epoch [62/120] Loss: 0.009414355270564556\n",
      "Epoch [63/120] Loss: 0.037322383373975754\n",
      "Epoch [64/120] Loss: 0.027679316699504852\n",
      "Epoch [65/120] Loss: 0.05031095817685127\n",
      "Epoch [66/120] Loss: 0.05295923352241516\n",
      "Epoch [67/120] Loss: 0.012490899302065372\n",
      "Epoch [68/120] Loss: 0.011349275708198547\n",
      "Epoch [69/120] Loss: 0.002336298581212759\n",
      "Epoch [70/120] Loss: 0.2284872680902481\n",
      "Epoch [71/120] Loss: 0.6798592209815979\n",
      "Epoch [72/120] Loss: 0.04849911108613014\n",
      "Epoch [73/120] Loss: 0.007658908609300852\n",
      "Epoch [74/120] Loss: 0.005308384075760841\n",
      "Epoch [75/120] Loss: 0.025830714032053947\n",
      "Epoch [76/120] Loss: 0.028812959790229797\n",
      "Epoch [77/120] Loss: 0.07546854019165039\n",
      "Epoch [78/120] Loss: 0.06639158725738525\n",
      "Epoch [79/120] Loss: 0.014123965986073017\n",
      "Epoch [80/120] Loss: 0.02084650658071041\n",
      "Epoch [81/120] Loss: 0.025530094280838966\n",
      "Epoch [82/120] Loss: 0.004171679262071848\n",
      "Epoch [83/120] Loss: 0.010126183740794659\n",
      "Epoch [84/120] Loss: 0.03300056979060173\n",
      "Epoch [85/120] Loss: 0.14069612324237823\n",
      "Epoch [86/120] Loss: 0.0017633478855714202\n",
      "Epoch [87/120] Loss: 0.023895621299743652\n",
      "Epoch [88/120] Loss: 0.027363277971744537\n",
      "Epoch [89/120] Loss: 0.008501124568283558\n",
      "Epoch [90/120] Loss: 0.023470113053917885\n",
      "Epoch [91/120] Loss: 0.10409601777791977\n",
      "Epoch [92/120] Loss: 0.02552330307662487\n",
      "Epoch [93/120] Loss: 0.05693065747618675\n",
      "Epoch [94/120] Loss: 0.0006717870128341019\n",
      "Epoch [95/120] Loss: 0.0022556239273399115\n",
      "Epoch [96/120] Loss: 0.003260961500927806\n",
      "Epoch [97/120] Loss: 0.008984859101474285\n",
      "Epoch [98/120] Loss: 0.012320824898779392\n",
      "Epoch [99/120] Loss: 0.047821659594774246\n",
      "Epoch [100/120] Loss: 0.00848648976534605\n",
      "Epoch [101/120] Loss: 0.007310194429010153\n",
      "Epoch [102/120] Loss: 0.00031837174901738763\n",
      "Epoch [103/120] Loss: 0.49679017066955566\n",
      "Epoch [104/120] Loss: 0.025392526760697365\n",
      "Epoch [105/120] Loss: 0.0013791279634460807\n",
      "Epoch [106/120] Loss: 0.003406388685107231\n",
      "Epoch [107/120] Loss: 0.024598434567451477\n",
      "Epoch [108/120] Loss: 0.002020296873524785\n",
      "Epoch [109/120] Loss: 0.009072751738131046\n",
      "Epoch [110/120] Loss: 0.0038920659571886063\n",
      "Epoch [111/120] Loss: 0.020365368574857712\n",
      "Epoch [112/120] Loss: 3.945645221392624e-05\n",
      "Epoch [113/120] Loss: 0.008332349359989166\n",
      "Epoch [114/120] Loss: 0.06291159242391586\n",
      "Epoch [115/120] Loss: 0.005225458648055792\n",
      "Epoch [116/120] Loss: 0.0009332409244962037\n",
      "Epoch [117/120] Loss: 0.0012022749288007617\n",
      "Epoch [118/120] Loss: 0.002119489246979356\n",
      "Epoch [119/120] Loss: 0.38901448249816895\n",
      "Epoch [120/120] Loss: 0.0010905596427619457\n",
      "Accuracy on test set: 0.78\n"
     ]
    },
    {
     "data": {
      "image/png": "[encoded data removed]",
      "text/plain": [
       "<Figure size 640x480 with 2 Axes>"
      ]
     },
     "metadata": {},
     "output_type": "display_data"
    }
   ],
   "source": [
    "import torch\n",
    "import torch.nn as nn\n",
    "import torch.optim as optim\n",
    "from torch.utils.data import DataLoader, TensorDataset\n",
    "from sklearn.datasets import make_classification\n",
    "from sklearn.model_selection import train_test_split\n",
    "from sklearn.preprocessing import StandardScaler\n",
    "\n",
    "\n",
    "X_train_tensor = torch.FloatTensor(X_train)\n",
    "X_test_tensor = torch.FloatTensor(X_test)\n",
    "y_train_tensor = torch.LongTensor(y_train_encoded)\n",
    "y_test_tensor = torch.LongTensor(y_test_encoded)\n",
    "\n",
    "train_dataset = TensorDataset(X_train_tensor, y_train_tensor)\n",
    "test_dataset = TensorDataset(X_test_tensor, y_test_tensor)\n",
    "\n",
    "train_loader = DataLoader(train_dataset, batch_size=32, shuffle=True)\n",
    "test_loader = DataLoader(test_dataset, batch_size=32)\n",
    "\n",
    "class NeuralNetwork(nn.Module):\n",
    "    def __init__(self, input_size, hidden_size1, hidden_size2, hidden_size3, num_classes):\n",
    "        super(NeuralNetwork, self).__init__()\n",
    "        self.fc1 = nn.Linear(input_size, hidden_size1)\n",
    "        self.relu = nn.ReLU()\n",
    "        self.fc2 = nn.Linear(hidden_size1, hidden_size2)\n",
    "        self.fc3 = nn.Linear(hidden_size2, hidden_size3)\n",
    "        self.fc4 = nn.Linear(hidden_size3, num_classes)\n",
    "    \n",
    "    def forward(self, x):\n",
    "        x = self.fc1(x)\n",
    "        x = self.relu(x)\n",
    "        x = self.fc2(x)\n",
    "        x = self.relu(x)\n",
    "        x = self.fc3(x)\n",
    "        x = self.relu(x)\n",
    "        x = self.fc4(x)\n",
    "        return x\n",
    "\n",
    "input_size = X_combined.shape[1]\n",
    "hidden_size1 = 256\n",
    "hidden_size2 = 256\n",
    "hidden_size3 = 256\n",
    "num_classes = 4  \n",
    "model = NeuralNetwork(input_size, hidden_size1, hidden_size2, hidden_size3, num_classes)\n",
    "\n",
    "criterion = nn.CrossEntropyLoss()\n",
    "optimizer = optim.Adam(model.parameters(), lr=0.0001)\n",
    "\n",
    "num_epochs = 120\n",
    "for epoch in range(num_epochs):\n",
    "    model.train()\n",
    "    for i, (inputs, targets) in enumerate(train_loader):\n",
    "        optimizer.zero_grad()\n",
    "        outputs = model(inputs)\n",
    "        loss = criterion(outputs, targets)\n",
    "        loss.backward()\n",
    "        optimizer.step()\n",
    "    \n",
    "    print(f\"Epoch [{epoch+1}/{num_epochs}] Loss: {loss.item()}\")\n",
    "\n",
    "model.eval()\n",
    "correct = 0\n",
    "total = 0\n",
    "y_preds = []\n",
    "y_true = []\n",
    "with torch.no_grad():\n",
    "    for inputs, targets in test_loader:\n",
    "        outputs = model(inputs)\n",
    "        _, predicted = torch.max(outputs, 1)\n",
    "        total += targets.size(0)\n",
    "        correct += (predicted == targets).sum().item()\n",
    "        y_preds.extend(predicted.tolist())\n",
    "        y_true.extend(targets.tolist())\n",
    "\n",
    "\n",
    "accuracy = correct / total\n",
    "print(f\"Accuracy on test set: {accuracy:.2f}\")\n",
    "\n",
    "\n",
    "y_pred_decoded = label_encoder.inverse_transform(y_preds)\n",
    "y_test = label_encoder.inverse_transform(y_true)\n",
    "\n",
    "cnf_matrix_nn2 = confusion_matrix(y_test, y_pred_decoded)\n",
    "plt.figure()\n",
    "plot_confusion_matrix(cnf_matrix_nn2, classes=label_encoder.classes_, title='Confusion Matrix')\n",
    "plt.show()"
   ]
  },
  {
   "cell_type": "markdown",
   "metadata": {},
   "source": [
    "### Neural Network\n",
    "#### using graph normalization"
   ]
  },
  {
   "cell_type": "code",
   "execution_count": 41,
   "metadata": {},
   "outputs": [
    {
     "name": "stdout",
     "output_type": "stream",
     "text": [
      "Epoch [1/80] Loss: 0.6395366191864014\n",
      "Epoch [2/80] Loss: 0.24917684495449066\n",
      "Epoch [3/80] Loss: 0.1743924468755722\n",
      "Epoch [4/80] Loss: 0.42763665318489075\n",
      "Epoch [5/80] Loss: 1.1121941804885864\n",
      "Epoch [6/80] Loss: 0.009521689265966415\n",
      "Epoch [7/80] Loss: 0.022488350048661232\n",
      "Epoch [8/80] Loss: 0.04436394199728966\n",
      "Epoch [9/80] Loss: 0.0015829444164410233\n",
      "Epoch [10/80] Loss: 0.002240215428173542\n",
      "Epoch [11/80] Loss: 0.005415258463472128\n",
      "Epoch [12/80] Loss: 0.0009639225318096578\n",
      "Epoch [13/80] Loss: 0.005330661311745644\n",
      "Epoch [14/80] Loss: 0.0015479768626391888\n",
      "Epoch [15/80] Loss: 0.0005994766834191978\n",
      "Epoch [16/80] Loss: 0.0015056398697197437\n",
      "Epoch [17/80] Loss: 0.0013003316707909107\n",
      "Epoch [18/80] Loss: 0.0009841296123340726\n",
      "Epoch [19/80] Loss: 0.08994410187005997\n",
      "Epoch [20/80] Loss: 0.00706653343513608\n",
      "Epoch [21/80] Loss: 0.02591136284172535\n",
      "Epoch [22/80] Loss: 0.0016660381807014346\n",
      "Epoch [23/80] Loss: 0.00017101068806368858\n",
      "Epoch [24/80] Loss: 0.0002891169278882444\n",
      "Epoch [25/80] Loss: 0.0004161936230957508\n",
      "Epoch [26/80] Loss: 0.0036504340823739767\n",
      "Epoch [27/80] Loss: 0.0004735392576549202\n",
      "Epoch [28/80] Loss: 0.1892978549003601\n",
      "Epoch [29/80] Loss: 1.5630168914794922\n",
      "Epoch [30/80] Loss: 0.34167277812957764\n",
      "Epoch [31/80] Loss: 0.004631272982805967\n",
      "Epoch [32/80] Loss: 0.00422062911093235\n",
      "Epoch [33/80] Loss: 0.0312467273324728\n",
      "Epoch [34/80] Loss: 0.0035037619527429342\n",
      "Epoch [35/80] Loss: 0.002181112999096513\n",
      "Epoch [36/80] Loss: 0.00017227705393452197\n",
      "Epoch [37/80] Loss: 0.003961523529142141\n",
      "Epoch [38/80] Loss: 0.0019104423699900508\n",
      "Epoch [39/80] Loss: 0.0009210190619342029\n",
      "Epoch [40/80] Loss: 0.0009306093561463058\n",
      "Epoch [41/80] Loss: 0.0005618971772491932\n",
      "Epoch [42/80] Loss: 0.000539130880497396\n",
      "Epoch [43/80] Loss: 0.0011450449237599969\n",
      "Epoch [44/80] Loss: 0.00017156619287561625\n",
      "Epoch [45/80] Loss: 0.00010068676056107506\n",
      "Epoch [46/80] Loss: 0.0012184627121314406\n",
      "Epoch [47/80] Loss: 0.0003410578647162765\n",
      "Epoch [48/80] Loss: 0.00019237077503930777\n",
      "Epoch [49/80] Loss: 0.00021816766820847988\n",
      "Epoch [50/80] Loss: 0.00015861196152400225\n",
      "Epoch [51/80] Loss: 0.00016210983449127525\n",
      "Epoch [52/80] Loss: 0.0003652504237834364\n",
      "Epoch [53/80] Loss: 7.215869118226692e-05\n",
      "Epoch [54/80] Loss: 8.642253669677302e-05\n",
      "Epoch [55/80] Loss: 0.0006945994682610035\n",
      "Epoch [56/80] Loss: 0.00012138461897848174\n",
      "Epoch [57/80] Loss: 0.0005628528888337314\n",
      "Epoch [58/80] Loss: 0.0005912837223149836\n",
      "Epoch [59/80] Loss: 6.508571823360398e-05\n",
      "Epoch [60/80] Loss: 0.00015948725922498852\n",
      "Epoch [61/80] Loss: 0.00022395070118363947\n",
      "Epoch [62/80] Loss: 4.517894922173582e-05\n",
      "Epoch [63/80] Loss: 0.00019053963478654623\n",
      "Epoch [64/80] Loss: 9.07117864699103e-05\n",
      "Epoch [65/80] Loss: 8.256818546215072e-05\n",
      "Epoch [66/80] Loss: 0.0002201459283242002\n",
      "Epoch [67/80] Loss: 5.833135583088733e-05\n",
      "Epoch [68/80] Loss: 0.00013397714064922184\n",
      "Epoch [69/80] Loss: 5.380137008614838e-05\n",
      "Epoch [70/80] Loss: 9.766282892087474e-05\n",
      "Epoch [71/80] Loss: 0.0002327904658159241\n",
      "Epoch [72/80] Loss: 7.720286521362141e-05\n",
      "Epoch [73/80] Loss: 6.631781434407458e-05\n",
      "Epoch [74/80] Loss: 0.00015386952145490795\n",
      "Epoch [75/80] Loss: 9.992922423407435e-05\n",
      "Epoch [76/80] Loss: 0.00016349971701856703\n",
      "Epoch [77/80] Loss: 5.97215948801022e-05\n",
      "Epoch [78/80] Loss: 6.556281732628122e-05\n",
      "Epoch [79/80] Loss: 8.83284374140203e-05\n",
      "Epoch [80/80] Loss: 4.764258846989833e-05\n",
      "Accuracy on test set: 0.75\n"
     ]
    },
    {
     "data": {
      "image/png": "[encoded data removed]",
      "text/plain": [
       "<Figure size 640x480 with 2 Axes>"
      ]
     },
     "metadata": {},
     "output_type": "display_data"
    }
   ],
   "source": [
    "import torch\n",
    "import torch.nn as nn\n",
    "import torch.optim as optim\n",
    "from torch.utils.data import DataLoader, TensorDataset\n",
    "from sklearn.datasets import make_classification\n",
    "from sklearn.model_selection import train_test_split\n",
    "from sklearn.preprocessing import StandardScaler\n",
    "\n",
    "\n",
    "X_train_tensor = torch.FloatTensor(X_train)\n",
    "X_test_tensor = torch.FloatTensor(X_test)\n",
    "y_train_tensor = torch.LongTensor(y_train_encoded)\n",
    "y_test_tensor = torch.LongTensor(y_test_encoded)\n",
    "\n",
    "train_dataset = TensorDataset(X_train_tensor, y_train_tensor)\n",
    "test_dataset = TensorDataset(X_test_tensor, y_test_tensor)\n",
    "\n",
    "train_loader = DataLoader(train_dataset, batch_size=32, shuffle=True)\n",
    "test_loader = DataLoader(test_dataset, batch_size=32)\n",
    "\n",
    "class NeuralNetwork(nn.Module):\n",
    "    def __init__(self, input_size, hidden_size1, hidden_size2, hidden_size3, num_classes):\n",
    "        super(NeuralNetwork, self).__init__()\n",
    "        self.fc1 = nn.Linear(input_size, hidden_size1)\n",
    "        self.gn1 = nn.GroupNorm(num_groups=4, num_channels=hidden_size1)  \n",
    "        self.fc2 = nn.Linear(hidden_size1, hidden_size2)\n",
    "        self.gn2 = nn.GroupNorm(num_groups=8, num_channels=hidden_size2)  \n",
    "        self.fc3 = nn.Linear(hidden_size2, hidden_size3)\n",
    "        self.gn3 = nn.GroupNorm(num_groups=8, num_channels=hidden_size3)  \n",
    "        self.fc4 = nn.Linear(hidden_size3, num_classes)\n",
    "        self.relu = nn.ReLU()\n",
    "        \n",
    "    \n",
    "    def forward(self, x):\n",
    "        x = self.fc1(x)\n",
    "        x = self.gn1(x)\n",
    "        x = self.relu(x)\n",
    "        x = self.fc2(x)\n",
    "        x = self.gn2(x)\n",
    "        x = self.relu(x)\n",
    "        x = self.fc3(x)\n",
    "        x = self.gn3(x)\n",
    "        x = self.relu(x)\n",
    "        x = self.fc4(x)\n",
    "        return x\n",
    "\n",
    "input_size = X_combined.shape[1]\n",
    "hidden_size1 = 128\n",
    "hidden_size2 = 256\n",
    "hidden_size3 = 256\n",
    "num_classes = 4\n",
    "model = NeuralNetwork(input_size, hidden_size1, hidden_size2, hidden_size3, num_classes)\n",
    "\n",
    "criterion = nn.CrossEntropyLoss()\n",
    "optimizer = optim.Adam(model.parameters(), lr=0.001)\n",
    "\n",
    "num_epochs = 80\n",
    "for epoch in range(num_epochs):\n",
    "    model.train()\n",
    "    for i, (inputs, targets) in enumerate(train_loader):\n",
    "        optimizer.zero_grad()\n",
    "        outputs = model(inputs)\n",
    "        loss = criterion(outputs, targets)\n",
    "        loss.backward()\n",
    "        optimizer.step()\n",
    "    \n",
    "    print(f\"Epoch [{epoch+1}/{num_epochs}] Loss: {loss.item()}\")\n",
    "\n",
    "model.eval()\n",
    "correct = 0\n",
    "total = 0\n",
    "y_preds = []\n",
    "y_true = []\n",
    "with torch.no_grad():\n",
    "    for inputs, targets in test_loader:\n",
    "        outputs = model(inputs)\n",
    "        _, predicted = torch.max(outputs, 1)\n",
    "        total += targets.size(0)\n",
    "        correct += (predicted == targets).sum().item()\n",
    "        y_preds.extend(predicted.tolist())\n",
    "        y_true.extend(targets.tolist())\n",
    "\n",
    "\n",
    "accuracy = correct / total\n",
    "print(f\"Accuracy on test set: {accuracy:.2f}\")\n",
    "\n",
    "\n",
    "y_pred_decoded = label_encoder.inverse_transform(y_preds)\n",
    "y_test = label_encoder.inverse_transform(y_true)\n",
    "\n",
    "cnf_matrix_nn2 = confusion_matrix(y_test, y_pred_decoded)\n",
    "plt.figure()\n",
    "plot_confusion_matrix(cnf_matrix_nn2, classes=label_encoder.classes_, title='Confusion Matrix')\n",
    "plt.show()"
   ]
  },
  {
   "cell_type": "markdown",
   "metadata": {},
   "source": [
    "### Testing which n-grams combination works well"
   ]
  },
  {
   "cell_type": "code",
   "execution_count": 134,
   "metadata": {},
   "outputs": [
    {
     "name": "stdout",
     "output_type": "stream",
     "text": [
      "Index(['popularity', 'length', 'danceability', 'acousticness', 'energy',\n",
      "       'instrumentalness', 'liveness', 'valence', 'loudness', 'speechiness',\n",
      "       'tempo', 'key', 'time_signature'],\n",
      "      dtype='object')\n",
      "Model : Features : train accuracy : test accuracy\n"
     ]
    },
    {
     "name": "stderr",
     "output_type": "stream",
     "text": [
      "/home/gargi/.local/lib/python3.8/site-packages/sklearn/svm/_classes.py:32: FutureWarning: The default value of `dual` will change from `True` to `'auto'` in 1.5. Set the value of `dual` explicitly to suppress the warning.\n",
      "  warnings.warn(\n",
      "/home/gargi/.local/lib/python3.8/site-packages/sklearn/feature_extraction/text.py:525: UserWarning: The parameter 'token_pattern' will not be used since 'tokenizer' is not None'\n",
      "  warnings.warn(\n"
     ]
    },
    {
     "name": "stdout",
     "output_type": "stream",
     "text": [
      "LinearSVC(random_state=0, tol=1e-05) : Unigram : 0.922962962962963 :0.7333333333333333\n"
     ]
    },
    {
     "name": "stderr",
     "output_type": "stream",
     "text": [
      "/home/gargi/.local/lib/python3.8/site-packages/sklearn/feature_extraction/text.py:408: UserWarning: Your stop_words may be inconsistent with your preprocessing. Tokenizing the stop words generated tokens ['a/DT', 'about/IN', 'above/IN', 'across/IN', 'after/IN', 'afterwards/NNS', 'again/RB', 'against/IN', 'all/DT', 'almost/RB', 'alone/RB', 'along/IN', 'already/RB', 'also/RB', 'although/IN', 'always/RB', 'am/VBP', 'among/IN', 'amongst/NN', 'amoungst/NN', 'amount/NN', 'an/DT', 'and/CC', 'another/DT', 'any/DT', 'anyhow/NN', 'anyone/NN', 'anything/NN', 'anyway/RB', 'anywhere/RB', 'are/VBP', 'around/IN', 'as/IN', 'at/IN', 'back/RB', 'be/VB', 'became/VBD', 'because/IN', 'become/NN', 'becomes/NNS', 'becoming/VBG', 'been/VBN', 'before/IN', 'beforehand/NN', 'behind/IN', 'being/VBG', 'below/IN', 'beside/NN', 'besides/IN', 'between/IN', 'beyond/IN', 'bill/NN', 'both/DT', 'bottom/NN', 'but/CC', 'by/IN', 'call/NN', 'can/MD', 'cannot/NN', 'cant/NN', 'co/NN', 'con/NN', 'could/MD', 'couldnt/NN', 'cry/NN', 'de/NNS', 'describe/NN', 'detail/NN', 'do/VB', 'done/VBN', 'down/RB', 'due/JJ', 'during/IN', 'each/DT', 'eg/NN', 'eight/CD', 'either/DT', 'eleven/RB', 'else/RB', 'elsewhere/RB', 'empty/JJ', 'enough/RB', 'etc/NN', 'even/RB', 'ever/RB', 'every/DT', 'everyone/NN', 'everything/NN', 'everywhere/RB', 'except/IN', 'few/JJ', 'fifteen/NN', 'fifty/NN', 'fill/NN', 'find/VB', 'fire/NN', 'first/RB', 'five/CD', 'for/IN', 'former/JJ', 'formerly/RB', 'forty/NN', 'found/NN', 'four/CD', 'from/IN', 'front/NN', 'full/JJ', 'further/RB', 'get/VB', 'give/VB', 'go/VB', 'had/VBD', 'has/VBZ', 'hasnt/NN', 'have/VB', 'he/PRP', 'hence/NN', 'her/PRP$', 'here/RB', 'hereafter/NN', 'hereby/NN', 'herein/NN', 'hereupon/NN', 'hers/NNS', 'herself/NN', 'him/PRP', 'himself/PRP', 'his/PRP$', 'how/WRB', 'however/RB', 'hundred/VBN', 'i/NN', 'ie/NN', 'if/IN', 'in/IN', 'inc/NN', 'indeed/RB', 'interest/NN', 'into/IN', 'is/VBZ', 'it/PRP', 'its/PRP$', 'itself/PRP', 'keep/VB', 'last/JJ', 'latter/NN', 'latterly/RB', 'least/JJS', 'less/RBR', 'ltd/NN', 'made/VBN', 'many/JJ', 'may/MD', 'me/PRP', 'meanwhile/RB', 'might/MD', 'mill/NN', 'mine/NN', 'more/RBR', 'moreover/NN', 'most/JJS', 'mostly/RB', 'move/NN', 'much/JJ', 'must/MD', 'my/PRP$', 'myself/PRP', 'name/NN', 'namely/RB', 'neither/DT', 'never/RB', 'nevertheless/RB', 'next/JJ', 'nine/CD', 'no/DT', 'nobody/NN', 'none/NN', 'noone/NN', 'nor/CC', 'not/RB', 'nothing/NN', 'now/RB', 'nowhere/RB', 'of/IN', 'off/IN', 'often/RB', 'on/IN', 'once/RB', 'one/CD', 'only/RB', 'onto/IN', 'or/CC', 'other/JJ', 'others/NNS', 'otherwise/RB', 'our/PRP$', 'ours/NNS', 'ourselves/NNS', 'out/IN', 'over/IN', 'own/JJ', 'part/NN', 'per/IN', 'perhaps/RB', 'please/NN', 'put/NN', 'rather/RB', 're/NN', 'same/JJ', 'see/VB', 'seem/NN', 'seemed/VBD', 'seeming/VBG', 'seems/VBZ', 'serious/JJ', 'several/JJ', 'she/PRP', 'should/MD', 'show/NN', 'side/NN', 'since/IN', 'sincere/RB', 'six/CD', 'sixty/NN', 'so/RB', 'some/DT', 'somehow/NN', 'someone/NN', 'something/NN', 'sometime/RB', 'sometimes/RB', 'somewhere/RB', 'still/RB', 'such/JJ', 'system/NN', 'take/VB', 'ten/NNS', 'than/IN', 'that/IN', 'the/DT', 'their/PRP$', 'them/PRP', 'themselves/PRP', 'then/RB', 'thence/NN', 'there/RB', 'thereafter/RB', 'thereby/RB', 'therefore/RB', 'therein/NN', 'thereupon/NN', 'these/DT', 'they/PRP', 'thick/NN', 'thin/NN', 'third/JJ', 'this/DT', 'those/DT', 'though/IN', 'three/CD', 'through/IN', 'throughout/IN', 'thru/NN', 'thus/RB', 'to/TO', 'together/RB', 'too/RB', 'top/NN', 'toward/IN', 'towards/NNS', 'twelve/NN', 'twenty/NN', 'two/CD', 'un/NN', 'under/IN', 'until/IN', 'up/RB', 'upon/IN', 'us/PRP', 'very/RB', 'via/IN', 'was/VBD', 'we/PRP', 'well/RB', 'were/VBD', 'what/WP', 'whatever/WDT', 'when/WRB', 'whence/NN', 'whenever/NN', 'where/WRB', 'whereafter/NN', 'whereas/NNS', 'whereby/NN', 'wherein/NN', 'whereupon/NN', 'wherever/NN', 'whether/IN', 'which/WDT', 'while/IN', 'whither/NN', 'who/WP', 'whoever/NN', 'whole/JJ', 'whom/WP', 'whose/WP$', 'why/WRB', 'will/MD', 'with/IN', 'within/IN', 'without/IN', 'would/MD', 'yet/RB', 'you/PRP', 'your/PRP$', 'yours/NNS', 'yourself/PRP', 'yourselves/NNS'] not in stop_words.\n",
      "  warnings.warn(\n",
      "/home/gargi/.local/lib/python3.8/site-packages/sklearn/svm/_classes.py:32: FutureWarning: The default value of `dual` will change from `True` to `'auto'` in 1.5. Set the value of `dual` explicitly to suppress the warning.\n",
      "  warnings.warn(\n"
     ]
    },
    {
     "name": "stdout",
     "output_type": "stream",
     "text": [
      "LinearSVC(random_state=0, tol=1e-05) : Unigram + POS : 0.922962962962963 :0.7422222222222222\n"
     ]
    },
    {
     "name": "stderr",
     "output_type": "stream",
     "text": [
      "/home/gargi/.local/lib/python3.8/site-packages/sklearn/svm/_classes.py:32: FutureWarning: The default value of `dual` will change from `True` to `'auto'` in 1.5. Set the value of `dual` explicitly to suppress the warning.\n",
      "  warnings.warn(\n",
      "/home/gargi/.local/lib/python3.8/site-packages/sklearn/feature_extraction/text.py:525: UserWarning: The parameter 'token_pattern' will not be used since 'tokenizer' is not None'\n",
      "  warnings.warn(\n",
      "/home/gargi/.local/lib/python3.8/site-packages/sklearn/feature_extraction/text.py:408: UserWarning: Your stop_words may be inconsistent with your preprocessing. Tokenizing the stop words generated tokens ['a/DT', 'about/IN', 'above/IN', 'across/IN', 'after/IN', 'afterwards/NNS', 'again/RB', 'against/IN', 'all/DT', 'almost/RB', 'alone/RB', 'along/IN', 'already/RB', 'also/RB', 'although/IN', 'always/RB', 'am/VBP', 'among/IN', 'amongst/NN', 'amoungst/NN', 'amount/NN', 'an/DT', 'and/CC', 'another/DT', 'any/DT', 'anyhow/NN', 'anyone/NN', 'anything/NN', 'anyway/RB', 'anywhere/RB', 'are/VBP', 'around/IN', 'as/IN', 'at/IN', 'back/RB', 'be/VB', 'became/VBD', 'because/IN', 'become/NN', 'becomes/NNS', 'becoming/VBG', 'been/VBN', 'before/IN', 'beforehand/NN', 'behind/IN', 'being/VBG', 'below/IN', 'beside/NN', 'besides/IN', 'between/IN', 'beyond/IN', 'bill/NN', 'both/DT', 'bottom/NN', 'but/CC', 'by/IN', 'call/NN', 'can/MD', 'cannot/NN', 'cant/NN', 'co/NN', 'con/NN', 'could/MD', 'couldnt/NN', 'cry/NN', 'de/NNS', 'describe/NN', 'detail/NN', 'do/VB', 'done/VBN', 'down/RB', 'due/JJ', 'during/IN', 'each/DT', 'eg/NN', 'eight/CD', 'either/DT', 'eleven/RB', 'else/RB', 'elsewhere/RB', 'empty/JJ', 'enough/RB', 'etc/NN', 'even/RB', 'ever/RB', 'every/DT', 'everyone/NN', 'everything/NN', 'everywhere/RB', 'except/IN', 'few/JJ', 'fifteen/NN', 'fifty/NN', 'fill/NN', 'find/VB', 'fire/NN', 'first/RB', 'five/CD', 'for/IN', 'former/JJ', 'formerly/RB', 'forty/NN', 'found/NN', 'four/CD', 'from/IN', 'front/NN', 'full/JJ', 'further/RB', 'get/VB', 'give/VB', 'go/VB', 'had/VBD', 'has/VBZ', 'hasnt/NN', 'have/VB', 'he/PRP', 'hence/NN', 'her/PRP$', 'here/RB', 'hereafter/NN', 'hereby/NN', 'herein/NN', 'hereupon/NN', 'hers/NNS', 'herself/NN', 'him/PRP', 'himself/PRP', 'his/PRP$', 'how/WRB', 'however/RB', 'hundred/VBN', 'i/NN', 'ie/NN', 'if/IN', 'in/IN', 'inc/NN', 'indeed/RB', 'interest/NN', 'into/IN', 'is/VBZ', 'it/PRP', 'its/PRP$', 'itself/PRP', 'keep/VB', 'last/JJ', 'latter/NN', 'latterly/RB', 'least/JJS', 'less/RBR', 'ltd/NN', 'made/VBN', 'many/JJ', 'may/MD', 'me/PRP', 'meanwhile/RB', 'might/MD', 'mill/NN', 'mine/NN', 'more/RBR', 'moreover/NN', 'most/JJS', 'mostly/RB', 'move/NN', 'much/JJ', 'must/MD', 'my/PRP$', 'myself/PRP', 'name/NN', 'namely/RB', 'neither/DT', 'never/RB', 'nevertheless/RB', 'next/JJ', 'nine/CD', 'no/DT', 'nobody/NN', 'none/NN', 'noone/NN', 'nor/CC', 'not/RB', 'nothing/NN', 'now/RB', 'nowhere/RB', 'of/IN', 'off/IN', 'often/RB', 'on/IN', 'once/RB', 'one/CD', 'only/RB', 'onto/IN', 'or/CC', 'other/JJ', 'others/NNS', 'otherwise/RB', 'our/PRP$', 'ours/NNS', 'ourselves/NNS', 'out/IN', 'over/IN', 'own/JJ', 'part/NN', 'per/IN', 'perhaps/RB', 'please/NN', 'put/NN', 'rather/RB', 're/NN', 'same/JJ', 'see/VB', 'seem/NN', 'seemed/VBD', 'seeming/VBG', 'seems/VBZ', 'serious/JJ', 'several/JJ', 'she/PRP', 'should/MD', 'show/NN', 'side/NN', 'since/IN', 'sincere/RB', 'six/CD', 'sixty/NN', 'so/RB', 'some/DT', 'somehow/NN', 'someone/NN', 'something/NN', 'sometime/RB', 'sometimes/RB', 'somewhere/RB', 'still/RB', 'such/JJ', 'system/NN', 'take/VB', 'ten/NNS', 'than/IN', 'that/IN', 'the/DT', 'their/PRP$', 'them/PRP', 'themselves/PRP', 'then/RB', 'thence/NN', 'there/RB', 'thereafter/RB', 'thereby/RB', 'therefore/RB', 'therein/NN', 'thereupon/NN', 'these/DT', 'they/PRP', 'thick/NN', 'thin/NN', 'third/JJ', 'this/DT', 'those/DT', 'though/IN', 'three/CD', 'through/IN', 'throughout/IN', 'thru/NN', 'thus/RB', 'to/TO', 'together/RB', 'too/RB', 'top/NN', 'toward/IN', 'towards/NNS', 'twelve/NN', 'twenty/NN', 'two/CD', 'un/NN', 'under/IN', 'until/IN', 'up/RB', 'upon/IN', 'us/PRP', 'very/RB', 'via/IN', 'was/VBD', 'we/PRP', 'well/RB', 'were/VBD', 'what/WP', 'whatever/WDT', 'when/WRB', 'whence/NN', 'whenever/NN', 'where/WRB', 'whereafter/NN', 'whereas/NNS', 'whereby/NN', 'wherein/NN', 'whereupon/NN', 'wherever/NN', 'whether/IN', 'which/WDT', 'while/IN', 'whither/NN', 'who/WP', 'whoever/NN', 'whole/JJ', 'whom/WP', 'whose/WP$', 'why/WRB', 'will/MD', 'with/IN', 'within/IN', 'without/IN', 'would/MD', 'yet/RB', 'you/PRP', 'your/PRP$', 'yours/NNS', 'yourself/PRP', 'yourselves/NNS'] not in stop_words.\n",
      "  warnings.warn(\n"
     ]
    },
    {
     "name": "stdout",
     "output_type": "stream",
     "text": [
      "LinearSVC(random_state=0, tol=1e-05) : Bigram : 0.9111111111111111 :0.7066666666666667\n"
     ]
    },
    {
     "name": "stderr",
     "output_type": "stream",
     "text": [
      "/home/gargi/.local/lib/python3.8/site-packages/sklearn/svm/_classes.py:32: FutureWarning: The default value of `dual` will change from `True` to `'auto'` in 1.5. Set the value of `dual` explicitly to suppress the warning.\n",
      "  warnings.warn(\n"
     ]
    },
    {
     "name": "stdout",
     "output_type": "stream",
     "text": [
      "LinearSVC(random_state=0, tol=1e-05) : Bigram + POS : 0.9185185185185185 :0.7244444444444444\n"
     ]
    },
    {
     "name": "stderr",
     "output_type": "stream",
     "text": [
      "/home/gargi/.local/lib/python3.8/site-packages/sklearn/svm/_classes.py:32: FutureWarning: The default value of `dual` will change from `True` to `'auto'` in 1.5. Set the value of `dual` explicitly to suppress the warning.\n",
      "  warnings.warn(\n",
      "/home/gargi/.local/lib/python3.8/site-packages/sklearn/feature_extraction/text.py:525: UserWarning: The parameter 'token_pattern' will not be used since 'tokenizer' is not None'\n",
      "  warnings.warn(\n",
      "/home/gargi/.local/lib/python3.8/site-packages/sklearn/feature_extraction/text.py:408: UserWarning: Your stop_words may be inconsistent with your preprocessing. Tokenizing the stop words generated tokens ['a/DT', 'about/IN', 'above/IN', 'across/IN', 'after/IN', 'afterwards/NNS', 'again/RB', 'against/IN', 'all/DT', 'almost/RB', 'alone/RB', 'along/IN', 'already/RB', 'also/RB', 'although/IN', 'always/RB', 'am/VBP', 'among/IN', 'amongst/NN', 'amoungst/NN', 'amount/NN', 'an/DT', 'and/CC', 'another/DT', 'any/DT', 'anyhow/NN', 'anyone/NN', 'anything/NN', 'anyway/RB', 'anywhere/RB', 'are/VBP', 'around/IN', 'as/IN', 'at/IN', 'back/RB', 'be/VB', 'became/VBD', 'because/IN', 'become/NN', 'becomes/NNS', 'becoming/VBG', 'been/VBN', 'before/IN', 'beforehand/NN', 'behind/IN', 'being/VBG', 'below/IN', 'beside/NN', 'besides/IN', 'between/IN', 'beyond/IN', 'bill/NN', 'both/DT', 'bottom/NN', 'but/CC', 'by/IN', 'call/NN', 'can/MD', 'cannot/NN', 'cant/NN', 'co/NN', 'con/NN', 'could/MD', 'couldnt/NN', 'cry/NN', 'de/NNS', 'describe/NN', 'detail/NN', 'do/VB', 'done/VBN', 'down/RB', 'due/JJ', 'during/IN', 'each/DT', 'eg/NN', 'eight/CD', 'either/DT', 'eleven/RB', 'else/RB', 'elsewhere/RB', 'empty/JJ', 'enough/RB', 'etc/NN', 'even/RB', 'ever/RB', 'every/DT', 'everyone/NN', 'everything/NN', 'everywhere/RB', 'except/IN', 'few/JJ', 'fifteen/NN', 'fifty/NN', 'fill/NN', 'find/VB', 'fire/NN', 'first/RB', 'five/CD', 'for/IN', 'former/JJ', 'formerly/RB', 'forty/NN', 'found/NN', 'four/CD', 'from/IN', 'front/NN', 'full/JJ', 'further/RB', 'get/VB', 'give/VB', 'go/VB', 'had/VBD', 'has/VBZ', 'hasnt/NN', 'have/VB', 'he/PRP', 'hence/NN', 'her/PRP$', 'here/RB', 'hereafter/NN', 'hereby/NN', 'herein/NN', 'hereupon/NN', 'hers/NNS', 'herself/NN', 'him/PRP', 'himself/PRP', 'his/PRP$', 'how/WRB', 'however/RB', 'hundred/VBN', 'i/NN', 'ie/NN', 'if/IN', 'in/IN', 'inc/NN', 'indeed/RB', 'interest/NN', 'into/IN', 'is/VBZ', 'it/PRP', 'its/PRP$', 'itself/PRP', 'keep/VB', 'last/JJ', 'latter/NN', 'latterly/RB', 'least/JJS', 'less/RBR', 'ltd/NN', 'made/VBN', 'many/JJ', 'may/MD', 'me/PRP', 'meanwhile/RB', 'might/MD', 'mill/NN', 'mine/NN', 'more/RBR', 'moreover/NN', 'most/JJS', 'mostly/RB', 'move/NN', 'much/JJ', 'must/MD', 'my/PRP$', 'myself/PRP', 'name/NN', 'namely/RB', 'neither/DT', 'never/RB', 'nevertheless/RB', 'next/JJ', 'nine/CD', 'no/DT', 'nobody/NN', 'none/NN', 'noone/NN', 'nor/CC', 'not/RB', 'nothing/NN', 'now/RB', 'nowhere/RB', 'of/IN', 'off/IN', 'often/RB', 'on/IN', 'once/RB', 'one/CD', 'only/RB', 'onto/IN', 'or/CC', 'other/JJ', 'others/NNS', 'otherwise/RB', 'our/PRP$', 'ours/NNS', 'ourselves/NNS', 'out/IN', 'over/IN', 'own/JJ', 'part/NN', 'per/IN', 'perhaps/RB', 'please/NN', 'put/NN', 'rather/RB', 're/NN', 'same/JJ', 'see/VB', 'seem/NN', 'seemed/VBD', 'seeming/VBG', 'seems/VBZ', 'serious/JJ', 'several/JJ', 'she/PRP', 'should/MD', 'show/NN', 'side/NN', 'since/IN', 'sincere/RB', 'six/CD', 'sixty/NN', 'so/RB', 'some/DT', 'somehow/NN', 'someone/NN', 'something/NN', 'sometime/RB', 'sometimes/RB', 'somewhere/RB', 'still/RB', 'such/JJ', 'system/NN', 'take/VB', 'ten/NNS', 'than/IN', 'that/IN', 'the/DT', 'their/PRP$', 'them/PRP', 'themselves/PRP', 'then/RB', 'thence/NN', 'there/RB', 'thereafter/RB', 'thereby/RB', 'therefore/RB', 'therein/NN', 'thereupon/NN', 'these/DT', 'they/PRP', 'thick/NN', 'thin/NN', 'third/JJ', 'this/DT', 'those/DT', 'though/IN', 'three/CD', 'through/IN', 'throughout/IN', 'thru/NN', 'thus/RB', 'to/TO', 'together/RB', 'too/RB', 'top/NN', 'toward/IN', 'towards/NNS', 'twelve/NN', 'twenty/NN', 'two/CD', 'un/NN', 'under/IN', 'until/IN', 'up/RB', 'upon/IN', 'us/PRP', 'very/RB', 'via/IN', 'was/VBD', 'we/PRP', 'well/RB', 'were/VBD', 'what/WP', 'whatever/WDT', 'when/WRB', 'whence/NN', 'whenever/NN', 'where/WRB', 'whereafter/NN', 'whereas/NNS', 'whereby/NN', 'wherein/NN', 'whereupon/NN', 'wherever/NN', 'whether/IN', 'which/WDT', 'while/IN', 'whither/NN', 'who/WP', 'whoever/NN', 'whole/JJ', 'whom/WP', 'whose/WP$', 'why/WRB', 'will/MD', 'with/IN', 'within/IN', 'without/IN', 'would/MD', 'yet/RB', 'you/PRP', 'your/PRP$', 'yours/NNS', 'yourself/PRP', 'yourselves/NNS'] not in stop_words.\n",
      "  warnings.warn(\n"
     ]
    },
    {
     "name": "stdout",
     "output_type": "stream",
     "text": [
      "LinearSVC(random_state=0, tol=1e-05) : Trigram : 0.8340740740740741 :0.7288888888888889\n"
     ]
    },
    {
     "name": "stderr",
     "output_type": "stream",
     "text": [
      "/home/gargi/.local/lib/python3.8/site-packages/sklearn/svm/_classes.py:32: FutureWarning: The default value of `dual` will change from `True` to `'auto'` in 1.5. Set the value of `dual` explicitly to suppress the warning.\n",
      "  warnings.warn(\n"
     ]
    },
    {
     "name": "stdout",
     "output_type": "stream",
     "text": [
      "LinearSVC(random_state=0, tol=1e-05) : Trigram + POS : 0.9051851851851852 :0.7022222222222222\n"
     ]
    },
    {
     "name": "stderr",
     "output_type": "stream",
     "text": [
      "/home/gargi/.local/lib/python3.8/site-packages/sklearn/svm/_classes.py:32: FutureWarning: The default value of `dual` will change from `True` to `'auto'` in 1.5. Set the value of `dual` explicitly to suppress the warning.\n",
      "  warnings.warn(\n",
      "/home/gargi/.local/lib/python3.8/site-packages/sklearn/feature_extraction/text.py:525: UserWarning: The parameter 'token_pattern' will not be used since 'tokenizer' is not None'\n",
      "  warnings.warn(\n",
      "/home/gargi/.local/lib/python3.8/site-packages/sklearn/feature_extraction/text.py:408: UserWarning: Your stop_words may be inconsistent with your preprocessing. Tokenizing the stop words generated tokens ['a/DT', 'about/IN', 'above/IN', 'across/IN', 'after/IN', 'afterwards/NNS', 'again/RB', 'against/IN', 'all/DT', 'almost/RB', 'alone/RB', 'along/IN', 'already/RB', 'also/RB', 'although/IN', 'always/RB', 'am/VBP', 'among/IN', 'amongst/NN', 'amoungst/NN', 'amount/NN', 'an/DT', 'and/CC', 'another/DT', 'any/DT', 'anyhow/NN', 'anyone/NN', 'anything/NN', 'anyway/RB', 'anywhere/RB', 'are/VBP', 'around/IN', 'as/IN', 'at/IN', 'back/RB', 'be/VB', 'became/VBD', 'because/IN', 'become/NN', 'becomes/NNS', 'becoming/VBG', 'been/VBN', 'before/IN', 'beforehand/NN', 'behind/IN', 'being/VBG', 'below/IN', 'beside/NN', 'besides/IN', 'between/IN', 'beyond/IN', 'bill/NN', 'both/DT', 'bottom/NN', 'but/CC', 'by/IN', 'call/NN', 'can/MD', 'cannot/NN', 'cant/NN', 'co/NN', 'con/NN', 'could/MD', 'couldnt/NN', 'cry/NN', 'de/NNS', 'describe/NN', 'detail/NN', 'do/VB', 'done/VBN', 'down/RB', 'due/JJ', 'during/IN', 'each/DT', 'eg/NN', 'eight/CD', 'either/DT', 'eleven/RB', 'else/RB', 'elsewhere/RB', 'empty/JJ', 'enough/RB', 'etc/NN', 'even/RB', 'ever/RB', 'every/DT', 'everyone/NN', 'everything/NN', 'everywhere/RB', 'except/IN', 'few/JJ', 'fifteen/NN', 'fifty/NN', 'fill/NN', 'find/VB', 'fire/NN', 'first/RB', 'five/CD', 'for/IN', 'former/JJ', 'formerly/RB', 'forty/NN', 'found/NN', 'four/CD', 'from/IN', 'front/NN', 'full/JJ', 'further/RB', 'get/VB', 'give/VB', 'go/VB', 'had/VBD', 'has/VBZ', 'hasnt/NN', 'have/VB', 'he/PRP', 'hence/NN', 'her/PRP$', 'here/RB', 'hereafter/NN', 'hereby/NN', 'herein/NN', 'hereupon/NN', 'hers/NNS', 'herself/NN', 'him/PRP', 'himself/PRP', 'his/PRP$', 'how/WRB', 'however/RB', 'hundred/VBN', 'i/NN', 'ie/NN', 'if/IN', 'in/IN', 'inc/NN', 'indeed/RB', 'interest/NN', 'into/IN', 'is/VBZ', 'it/PRP', 'its/PRP$', 'itself/PRP', 'keep/VB', 'last/JJ', 'latter/NN', 'latterly/RB', 'least/JJS', 'less/RBR', 'ltd/NN', 'made/VBN', 'many/JJ', 'may/MD', 'me/PRP', 'meanwhile/RB', 'might/MD', 'mill/NN', 'mine/NN', 'more/RBR', 'moreover/NN', 'most/JJS', 'mostly/RB', 'move/NN', 'much/JJ', 'must/MD', 'my/PRP$', 'myself/PRP', 'name/NN', 'namely/RB', 'neither/DT', 'never/RB', 'nevertheless/RB', 'next/JJ', 'nine/CD', 'no/DT', 'nobody/NN', 'none/NN', 'noone/NN', 'nor/CC', 'not/RB', 'nothing/NN', 'now/RB', 'nowhere/RB', 'of/IN', 'off/IN', 'often/RB', 'on/IN', 'once/RB', 'one/CD', 'only/RB', 'onto/IN', 'or/CC', 'other/JJ', 'others/NNS', 'otherwise/RB', 'our/PRP$', 'ours/NNS', 'ourselves/NNS', 'out/IN', 'over/IN', 'own/JJ', 'part/NN', 'per/IN', 'perhaps/RB', 'please/NN', 'put/NN', 'rather/RB', 're/NN', 'same/JJ', 'see/VB', 'seem/NN', 'seemed/VBD', 'seeming/VBG', 'seems/VBZ', 'serious/JJ', 'several/JJ', 'she/PRP', 'should/MD', 'show/NN', 'side/NN', 'since/IN', 'sincere/RB', 'six/CD', 'sixty/NN', 'so/RB', 'some/DT', 'somehow/NN', 'someone/NN', 'something/NN', 'sometime/RB', 'sometimes/RB', 'somewhere/RB', 'still/RB', 'such/JJ', 'system/NN', 'take/VB', 'ten/NNS', 'than/IN', 'that/IN', 'the/DT', 'their/PRP$', 'them/PRP', 'themselves/PRP', 'then/RB', 'thence/NN', 'there/RB', 'thereafter/RB', 'thereby/RB', 'therefore/RB', 'therein/NN', 'thereupon/NN', 'these/DT', 'they/PRP', 'thick/NN', 'thin/NN', 'third/JJ', 'this/DT', 'those/DT', 'though/IN', 'three/CD', 'through/IN', 'throughout/IN', 'thru/NN', 'thus/RB', 'to/TO', 'together/RB', 'too/RB', 'top/NN', 'toward/IN', 'towards/NNS', 'twelve/NN', 'twenty/NN', 'two/CD', 'un/NN', 'under/IN', 'until/IN', 'up/RB', 'upon/IN', 'us/PRP', 'very/RB', 'via/IN', 'was/VBD', 'we/PRP', 'well/RB', 'were/VBD', 'what/WP', 'whatever/WDT', 'when/WRB', 'whence/NN', 'whenever/NN', 'where/WRB', 'whereafter/NN', 'whereas/NNS', 'whereby/NN', 'wherein/NN', 'whereupon/NN', 'wherever/NN', 'whether/IN', 'which/WDT', 'while/IN', 'whither/NN', 'who/WP', 'whoever/NN', 'whole/JJ', 'whom/WP', 'whose/WP$', 'why/WRB', 'will/MD', 'with/IN', 'within/IN', 'without/IN', 'would/MD', 'yet/RB', 'you/PRP', 'your/PRP$', 'yours/NNS', 'yourself/PRP', 'yourselves/NNS'] not in stop_words.\n",
      "  warnings.warn(\n"
     ]
    },
    {
     "name": "stdout",
     "output_type": "stream",
     "text": [
      "LinearSVC(random_state=0, tol=1e-05) : Unigram + Bigram : 0.922962962962963 :0.7377777777777778\n"
     ]
    },
    {
     "name": "stderr",
     "output_type": "stream",
     "text": [
      "/home/gargi/.local/lib/python3.8/site-packages/sklearn/svm/_classes.py:32: FutureWarning: The default value of `dual` will change from `True` to `'auto'` in 1.5. Set the value of `dual` explicitly to suppress the warning.\n",
      "  warnings.warn(\n"
     ]
    },
    {
     "name": "stdout",
     "output_type": "stream",
     "text": [
      "LinearSVC(random_state=0, tol=1e-05) : Unigram + Bigram + POS : 0.9214814814814815 :0.7288888888888889\n",
      "LinearSVC(random_state=0, tol=1e-05) : Bigram + Trigram : 0.922962962962963 :0.7333333333333333\n"
     ]
    },
    {
     "name": "stderr",
     "output_type": "stream",
     "text": [
      "/home/gargi/.local/lib/python3.8/site-packages/sklearn/svm/_classes.py:32: FutureWarning: The default value of `dual` will change from `True` to `'auto'` in 1.5. Set the value of `dual` explicitly to suppress the warning.\n",
      "  warnings.warn(\n",
      "/home/gargi/.local/lib/python3.8/site-packages/sklearn/feature_extraction/text.py:525: UserWarning: The parameter 'token_pattern' will not be used since 'tokenizer' is not None'\n",
      "  warnings.warn(\n",
      "/home/gargi/.local/lib/python3.8/site-packages/sklearn/feature_extraction/text.py:408: UserWarning: Your stop_words may be inconsistent with your preprocessing. Tokenizing the stop words generated tokens ['a/DT', 'about/IN', 'above/IN', 'across/IN', 'after/IN', 'afterwards/NNS', 'again/RB', 'against/IN', 'all/DT', 'almost/RB', 'alone/RB', 'along/IN', 'already/RB', 'also/RB', 'although/IN', 'always/RB', 'am/VBP', 'among/IN', 'amongst/NN', 'amoungst/NN', 'amount/NN', 'an/DT', 'and/CC', 'another/DT', 'any/DT', 'anyhow/NN', 'anyone/NN', 'anything/NN', 'anyway/RB', 'anywhere/RB', 'are/VBP', 'around/IN', 'as/IN', 'at/IN', 'back/RB', 'be/VB', 'became/VBD', 'because/IN', 'become/NN', 'becomes/NNS', 'becoming/VBG', 'been/VBN', 'before/IN', 'beforehand/NN', 'behind/IN', 'being/VBG', 'below/IN', 'beside/NN', 'besides/IN', 'between/IN', 'beyond/IN', 'bill/NN', 'both/DT', 'bottom/NN', 'but/CC', 'by/IN', 'call/NN', 'can/MD', 'cannot/NN', 'cant/NN', 'co/NN', 'con/NN', 'could/MD', 'couldnt/NN', 'cry/NN', 'de/NNS', 'describe/NN', 'detail/NN', 'do/VB', 'done/VBN', 'down/RB', 'due/JJ', 'during/IN', 'each/DT', 'eg/NN', 'eight/CD', 'either/DT', 'eleven/RB', 'else/RB', 'elsewhere/RB', 'empty/JJ', 'enough/RB', 'etc/NN', 'even/RB', 'ever/RB', 'every/DT', 'everyone/NN', 'everything/NN', 'everywhere/RB', 'except/IN', 'few/JJ', 'fifteen/NN', 'fifty/NN', 'fill/NN', 'find/VB', 'fire/NN', 'first/RB', 'five/CD', 'for/IN', 'former/JJ', 'formerly/RB', 'forty/NN', 'found/NN', 'four/CD', 'from/IN', 'front/NN', 'full/JJ', 'further/RB', 'get/VB', 'give/VB', 'go/VB', 'had/VBD', 'has/VBZ', 'hasnt/NN', 'have/VB', 'he/PRP', 'hence/NN', 'her/PRP$', 'here/RB', 'hereafter/NN', 'hereby/NN', 'herein/NN', 'hereupon/NN', 'hers/NNS', 'herself/NN', 'him/PRP', 'himself/PRP', 'his/PRP$', 'how/WRB', 'however/RB', 'hundred/VBN', 'i/NN', 'ie/NN', 'if/IN', 'in/IN', 'inc/NN', 'indeed/RB', 'interest/NN', 'into/IN', 'is/VBZ', 'it/PRP', 'its/PRP$', 'itself/PRP', 'keep/VB', 'last/JJ', 'latter/NN', 'latterly/RB', 'least/JJS', 'less/RBR', 'ltd/NN', 'made/VBN', 'many/JJ', 'may/MD', 'me/PRP', 'meanwhile/RB', 'might/MD', 'mill/NN', 'mine/NN', 'more/RBR', 'moreover/NN', 'most/JJS', 'mostly/RB', 'move/NN', 'much/JJ', 'must/MD', 'my/PRP$', 'myself/PRP', 'name/NN', 'namely/RB', 'neither/DT', 'never/RB', 'nevertheless/RB', 'next/JJ', 'nine/CD', 'no/DT', 'nobody/NN', 'none/NN', 'noone/NN', 'nor/CC', 'not/RB', 'nothing/NN', 'now/RB', 'nowhere/RB', 'of/IN', 'off/IN', 'often/RB', 'on/IN', 'once/RB', 'one/CD', 'only/RB', 'onto/IN', 'or/CC', 'other/JJ', 'others/NNS', 'otherwise/RB', 'our/PRP$', 'ours/NNS', 'ourselves/NNS', 'out/IN', 'over/IN', 'own/JJ', 'part/NN', 'per/IN', 'perhaps/RB', 'please/NN', 'put/NN', 'rather/RB', 're/NN', 'same/JJ', 'see/VB', 'seem/NN', 'seemed/VBD', 'seeming/VBG', 'seems/VBZ', 'serious/JJ', 'several/JJ', 'she/PRP', 'should/MD', 'show/NN', 'side/NN', 'since/IN', 'sincere/RB', 'six/CD', 'sixty/NN', 'so/RB', 'some/DT', 'somehow/NN', 'someone/NN', 'something/NN', 'sometime/RB', 'sometimes/RB', 'somewhere/RB', 'still/RB', 'such/JJ', 'system/NN', 'take/VB', 'ten/NNS', 'than/IN', 'that/IN', 'the/DT', 'their/PRP$', 'them/PRP', 'themselves/PRP', 'then/RB', 'thence/NN', 'there/RB', 'thereafter/RB', 'thereby/RB', 'therefore/RB', 'therein/NN', 'thereupon/NN', 'these/DT', 'they/PRP', 'thick/NN', 'thin/NN', 'third/JJ', 'this/DT', 'those/DT', 'though/IN', 'three/CD', 'through/IN', 'throughout/IN', 'thru/NN', 'thus/RB', 'to/TO', 'together/RB', 'too/RB', 'top/NN', 'toward/IN', 'towards/NNS', 'twelve/NN', 'twenty/NN', 'two/CD', 'un/NN', 'under/IN', 'until/IN', 'up/RB', 'upon/IN', 'us/PRP', 'very/RB', 'via/IN', 'was/VBD', 'we/PRP', 'well/RB', 'were/VBD', 'what/WP', 'whatever/WDT', 'when/WRB', 'whence/NN', 'whenever/NN', 'where/WRB', 'whereafter/NN', 'whereas/NNS', 'whereby/NN', 'wherein/NN', 'whereupon/NN', 'wherever/NN', 'whether/IN', 'which/WDT', 'while/IN', 'whither/NN', 'who/WP', 'whoever/NN', 'whole/JJ', 'whom/WP', 'whose/WP$', 'why/WRB', 'will/MD', 'with/IN', 'within/IN', 'without/IN', 'would/MD', 'yet/RB', 'you/PRP', 'your/PRP$', 'yours/NNS', 'yourself/PRP', 'yourselves/NNS'] not in stop_words.\n",
      "  warnings.warn(\n",
      "/home/gargi/.local/lib/python3.8/site-packages/sklearn/svm/_classes.py:32: FutureWarning: The default value of `dual` will change from `True` to `'auto'` in 1.5. Set the value of `dual` explicitly to suppress the warning.\n",
      "  warnings.warn(\n"
     ]
    },
    {
     "name": "stdout",
     "output_type": "stream",
     "text": [
      "LinearSVC(random_state=0, tol=1e-05) : Bigram + Trigram + POS : 0.922962962962963 :0.7422222222222222\n"
     ]
    },
    {
     "name": "stderr",
     "output_type": "stream",
     "text": [
      "/home/gargi/.local/lib/python3.8/site-packages/sklearn/svm/_classes.py:32: FutureWarning: The default value of `dual` will change from `True` to `'auto'` in 1.5. Set the value of `dual` explicitly to suppress the warning.\n",
      "  warnings.warn(\n",
      "/home/gargi/.local/lib/python3.8/site-packages/sklearn/feature_extraction/text.py:525: UserWarning: The parameter 'token_pattern' will not be used since 'tokenizer' is not None'\n",
      "  warnings.warn(\n",
      "/home/gargi/.local/lib/python3.8/site-packages/sklearn/feature_extraction/text.py:408: UserWarning: Your stop_words may be inconsistent with your preprocessing. Tokenizing the stop words generated tokens ['a/DT', 'about/IN', 'above/IN', 'across/IN', 'after/IN', 'afterwards/NNS', 'again/RB', 'against/IN', 'all/DT', 'almost/RB', 'alone/RB', 'along/IN', 'already/RB', 'also/RB', 'although/IN', 'always/RB', 'am/VBP', 'among/IN', 'amongst/NN', 'amoungst/NN', 'amount/NN', 'an/DT', 'and/CC', 'another/DT', 'any/DT', 'anyhow/NN', 'anyone/NN', 'anything/NN', 'anyway/RB', 'anywhere/RB', 'are/VBP', 'around/IN', 'as/IN', 'at/IN', 'back/RB', 'be/VB', 'became/VBD', 'because/IN', 'become/NN', 'becomes/NNS', 'becoming/VBG', 'been/VBN', 'before/IN', 'beforehand/NN', 'behind/IN', 'being/VBG', 'below/IN', 'beside/NN', 'besides/IN', 'between/IN', 'beyond/IN', 'bill/NN', 'both/DT', 'bottom/NN', 'but/CC', 'by/IN', 'call/NN', 'can/MD', 'cannot/NN', 'cant/NN', 'co/NN', 'con/NN', 'could/MD', 'couldnt/NN', 'cry/NN', 'de/NNS', 'describe/NN', 'detail/NN', 'do/VB', 'done/VBN', 'down/RB', 'due/JJ', 'during/IN', 'each/DT', 'eg/NN', 'eight/CD', 'either/DT', 'eleven/RB', 'else/RB', 'elsewhere/RB', 'empty/JJ', 'enough/RB', 'etc/NN', 'even/RB', 'ever/RB', 'every/DT', 'everyone/NN', 'everything/NN', 'everywhere/RB', 'except/IN', 'few/JJ', 'fifteen/NN', 'fifty/NN', 'fill/NN', 'find/VB', 'fire/NN', 'first/RB', 'five/CD', 'for/IN', 'former/JJ', 'formerly/RB', 'forty/NN', 'found/NN', 'four/CD', 'from/IN', 'front/NN', 'full/JJ', 'further/RB', 'get/VB', 'give/VB', 'go/VB', 'had/VBD', 'has/VBZ', 'hasnt/NN', 'have/VB', 'he/PRP', 'hence/NN', 'her/PRP$', 'here/RB', 'hereafter/NN', 'hereby/NN', 'herein/NN', 'hereupon/NN', 'hers/NNS', 'herself/NN', 'him/PRP', 'himself/PRP', 'his/PRP$', 'how/WRB', 'however/RB', 'hundred/VBN', 'i/NN', 'ie/NN', 'if/IN', 'in/IN', 'inc/NN', 'indeed/RB', 'interest/NN', 'into/IN', 'is/VBZ', 'it/PRP', 'its/PRP$', 'itself/PRP', 'keep/VB', 'last/JJ', 'latter/NN', 'latterly/RB', 'least/JJS', 'less/RBR', 'ltd/NN', 'made/VBN', 'many/JJ', 'may/MD', 'me/PRP', 'meanwhile/RB', 'might/MD', 'mill/NN', 'mine/NN', 'more/RBR', 'moreover/NN', 'most/JJS', 'mostly/RB', 'move/NN', 'much/JJ', 'must/MD', 'my/PRP$', 'myself/PRP', 'name/NN', 'namely/RB', 'neither/DT', 'never/RB', 'nevertheless/RB', 'next/JJ', 'nine/CD', 'no/DT', 'nobody/NN', 'none/NN', 'noone/NN', 'nor/CC', 'not/RB', 'nothing/NN', 'now/RB', 'nowhere/RB', 'of/IN', 'off/IN', 'often/RB', 'on/IN', 'once/RB', 'one/CD', 'only/RB', 'onto/IN', 'or/CC', 'other/JJ', 'others/NNS', 'otherwise/RB', 'our/PRP$', 'ours/NNS', 'ourselves/NNS', 'out/IN', 'over/IN', 'own/JJ', 'part/NN', 'per/IN', 'perhaps/RB', 'please/NN', 'put/NN', 'rather/RB', 're/NN', 'same/JJ', 'see/VB', 'seem/NN', 'seemed/VBD', 'seeming/VBG', 'seems/VBZ', 'serious/JJ', 'several/JJ', 'she/PRP', 'should/MD', 'show/NN', 'side/NN', 'since/IN', 'sincere/RB', 'six/CD', 'sixty/NN', 'so/RB', 'some/DT', 'somehow/NN', 'someone/NN', 'something/NN', 'sometime/RB', 'sometimes/RB', 'somewhere/RB', 'still/RB', 'such/JJ', 'system/NN', 'take/VB', 'ten/NNS', 'than/IN', 'that/IN', 'the/DT', 'their/PRP$', 'them/PRP', 'themselves/PRP', 'then/RB', 'thence/NN', 'there/RB', 'thereafter/RB', 'thereby/RB', 'therefore/RB', 'therein/NN', 'thereupon/NN', 'these/DT', 'they/PRP', 'thick/NN', 'thin/NN', 'third/JJ', 'this/DT', 'those/DT', 'though/IN', 'three/CD', 'through/IN', 'throughout/IN', 'thru/NN', 'thus/RB', 'to/TO', 'together/RB', 'too/RB', 'top/NN', 'toward/IN', 'towards/NNS', 'twelve/NN', 'twenty/NN', 'two/CD', 'un/NN', 'under/IN', 'until/IN', 'up/RB', 'upon/IN', 'us/PRP', 'very/RB', 'via/IN', 'was/VBD', 'we/PRP', 'well/RB', 'were/VBD', 'what/WP', 'whatever/WDT', 'when/WRB', 'whence/NN', 'whenever/NN', 'where/WRB', 'whereafter/NN', 'whereas/NNS', 'whereby/NN', 'wherein/NN', 'whereupon/NN', 'wherever/NN', 'whether/IN', 'which/WDT', 'while/IN', 'whither/NN', 'who/WP', 'whoever/NN', 'whole/JJ', 'whom/WP', 'whose/WP$', 'why/WRB', 'will/MD', 'with/IN', 'within/IN', 'without/IN', 'would/MD', 'yet/RB', 'you/PRP', 'your/PRP$', 'yours/NNS', 'yourself/PRP', 'yourselves/NNS'] not in stop_words.\n",
      "  warnings.warn(\n"
     ]
    },
    {
     "name": "stdout",
     "output_type": "stream",
     "text": [
      "LinearSVC(random_state=0, tol=1e-05) : Unigram + Bigram  + Trigram : 0.922962962962963 :0.7333333333333333\n"
     ]
    },
    {
     "name": "stderr",
     "output_type": "stream",
     "text": [
      "/home/gargi/.local/lib/python3.8/site-packages/sklearn/svm/_classes.py:32: FutureWarning: The default value of `dual` will change from `True` to `'auto'` in 1.5. Set the value of `dual` explicitly to suppress the warning.\n",
      "  warnings.warn(\n"
     ]
    },
    {
     "name": "stdout",
     "output_type": "stream",
     "text": [
      "LinearSVC(random_state=0, tol=1e-05) : Unigram + Bigram  + Trigram + POS : 0.9214814814814815 :0.7333333333333333\n",
      "LogisticRegression() : Unigram : 0.8681481481481481 :0.7555555555555555\n"
     ]
    },
    {
     "name": "stderr",
     "output_type": "stream",
     "text": [
      "/home/gargi/.local/lib/python3.8/site-packages/sklearn/feature_extraction/text.py:525: UserWarning: The parameter 'token_pattern' will not be used since 'tokenizer' is not None'\n",
      "  warnings.warn(\n"
     ]
    },
    {
     "name": "stdout",
     "output_type": "stream",
     "text": [
      "LogisticRegression() : Unigram + POS : 0.8666666666666667 :0.7555555555555555\n",
      "LogisticRegression() : Bigram : 0.8592592592592593 :0.7555555555555555\n"
     ]
    },
    {
     "name": "stderr",
     "output_type": "stream",
     "text": [
      "/home/gargi/.local/lib/python3.8/site-packages/sklearn/feature_extraction/text.py:525: UserWarning: The parameter 'token_pattern' will not be used since 'tokenizer' is not None'\n",
      "  warnings.warn(\n"
     ]
    },
    {
     "name": "stdout",
     "output_type": "stream",
     "text": [
      "LogisticRegression() : Bigram + POS : 0.8666666666666667 :0.7466666666666667\n",
      "LogisticRegression() : Trigram : 0.8207407407407408 :0.7555555555555555\n"
     ]
    },
    {
     "name": "stderr",
     "output_type": "stream",
     "text": [
      "/home/gargi/.local/lib/python3.8/site-packages/sklearn/feature_extraction/text.py:525: UserWarning: The parameter 'token_pattern' will not be used since 'tokenizer' is not None'\n",
      "  warnings.warn(\n"
     ]
    },
    {
     "name": "stdout",
     "output_type": "stream",
     "text": [
      "LogisticRegression() : Trigram + POS : 0.8681481481481481 :0.7333333333333333\n",
      "LogisticRegression() : Unigram + Bigram : 0.8666666666666667 :0.7644444444444445\n"
     ]
    },
    {
     "name": "stderr",
     "output_type": "stream",
     "text": [
      "/home/gargi/.local/lib/python3.8/site-packages/sklearn/feature_extraction/text.py:525: UserWarning: The parameter 'token_pattern' will not be used since 'tokenizer' is not None'\n",
      "  warnings.warn(\n",
      "/home/gargi/.local/lib/python3.8/site-packages/sklearn/linear_model/_logistic.py:460: ConvergenceWarning: lbfgs failed to converge (status=1):\n",
      "STOP: TOTAL NO. of ITERATIONS REACHED LIMIT.\n",
      "\n",
      "Increase the number of iterations (max_iter) or scale the data as shown in:\n",
      "    https://scikit-learn.org/stable/modules/preprocessing.html\n",
      "Please also refer to the documentation for alternative solver options:\n",
      "    https://scikit-learn.org/stable/modules/linear_model.html#logistic-regression\n",
      "  n_iter_i = _check_optimize_result(\n"
     ]
    },
    {
     "name": "stdout",
     "output_type": "stream",
     "text": [
      "LogisticRegression() : Unigram + Bigram + POS : 0.8622222222222222 :0.7422222222222222\n",
      "LogisticRegression() : Bigram + Trigram : 0.8681481481481481 :0.7555555555555555\n"
     ]
    },
    {
     "name": "stderr",
     "output_type": "stream",
     "text": [
      "/home/gargi/.local/lib/python3.8/site-packages/sklearn/feature_extraction/text.py:525: UserWarning: The parameter 'token_pattern' will not be used since 'tokenizer' is not None'\n",
      "  warnings.warn(\n"
     ]
    },
    {
     "name": "stdout",
     "output_type": "stream",
     "text": [
      "LogisticRegression() : Bigram + Trigram + POS : 0.8666666666666667 :0.7555555555555555\n",
      "LogisticRegression() : Unigram + Bigram  + Trigram : 0.8651851851851852 :0.7688888888888888\n"
     ]
    },
    {
     "name": "stderr",
     "output_type": "stream",
     "text": [
      "/home/gargi/.local/lib/python3.8/site-packages/sklearn/feature_extraction/text.py:525: UserWarning: The parameter 'token_pattern' will not be used since 'tokenizer' is not None'\n",
      "  warnings.warn(\n",
      "/home/gargi/.local/lib/python3.8/site-packages/sklearn/linear_model/_logistic.py:460: ConvergenceWarning: lbfgs failed to converge (status=1):\n",
      "STOP: TOTAL NO. of ITERATIONS REACHED LIMIT.\n",
      "\n",
      "Increase the number of iterations (max_iter) or scale the data as shown in:\n",
      "    https://scikit-learn.org/stable/modules/preprocessing.html\n",
      "Please also refer to the documentation for alternative solver options:\n",
      "    https://scikit-learn.org/stable/modules/linear_model.html#logistic-regression\n",
      "  n_iter_i = _check_optimize_result(\n",
      "/home/gargi/.local/lib/python3.8/site-packages/sklearn/feature_extraction/text.py:525: UserWarning: The parameter 'token_pattern' will not be used since 'tokenizer' is not None'\n",
      "  warnings.warn(\n"
     ]
    },
    {
     "name": "stdout",
     "output_type": "stream",
     "text": [
      "LogisticRegression() : Unigram + Bigram  + Trigram + POS : 0.8637037037037038 :0.7422222222222222\n",
      "DecisionTreeClassifier(max_depth=5) : Unigram : 0.8696296296296296 :0.7555555555555555\n",
      "DecisionTreeClassifier(max_depth=5) : Unigram + POS : 0.8755555555555555 :0.7688888888888888\n",
      "DecisionTreeClassifier(max_depth=5) : Bigram : 0.8622222222222222 :0.7688888888888888\n"
     ]
    },
    {
     "name": "stderr",
     "output_type": "stream",
     "text": [
      "/home/gargi/.local/lib/python3.8/site-packages/sklearn/feature_extraction/text.py:525: UserWarning: The parameter 'token_pattern' will not be used since 'tokenizer' is not None'\n",
      "  warnings.warn(\n"
     ]
    },
    {
     "name": "stdout",
     "output_type": "stream",
     "text": [
      "DecisionTreeClassifier(max_depth=5) : Bigram + POS : 0.8681481481481481 :0.7733333333333333\n",
      "DecisionTreeClassifier(max_depth=5) : Trigram : 0.8622222222222222 :0.7777777777777778\n"
     ]
    },
    {
     "name": "stderr",
     "output_type": "stream",
     "text": [
      "/home/gargi/.local/lib/python3.8/site-packages/sklearn/feature_extraction/text.py:525: UserWarning: The parameter 'token_pattern' will not be used since 'tokenizer' is not None'\n",
      "  warnings.warn(\n"
     ]
    },
    {
     "name": "stdout",
     "output_type": "stream",
     "text": [
      "DecisionTreeClassifier(max_depth=5) : Trigram + POS : 0.8637037037037038 :0.7733333333333333\n",
      "DecisionTreeClassifier(max_depth=5) : Unigram + Bigram : 0.8681481481481481 :0.7555555555555555\n"
     ]
    },
    {
     "name": "stderr",
     "output_type": "stream",
     "text": [
      "/home/gargi/.local/lib/python3.8/site-packages/sklearn/feature_extraction/text.py:525: UserWarning: The parameter 'token_pattern' will not be used since 'tokenizer' is not None'\n",
      "  warnings.warn(\n"
     ]
    },
    {
     "name": "stdout",
     "output_type": "stream",
     "text": [
      "DecisionTreeClassifier(max_depth=5) : Unigram + Bigram + POS : 0.8740740740740741 :0.7822222222222223\n",
      "DecisionTreeClassifier(max_depth=5) : Bigram + Trigram : 0.8696296296296296 :0.7555555555555555\n"
     ]
    },
    {
     "name": "stderr",
     "output_type": "stream",
     "text": [
      "/home/gargi/.local/lib/python3.8/site-packages/sklearn/feature_extraction/text.py:525: UserWarning: The parameter 'token_pattern' will not be used since 'tokenizer' is not None'\n",
      "  warnings.warn(\n"
     ]
    },
    {
     "name": "stdout",
     "output_type": "stream",
     "text": [
      "DecisionTreeClassifier(max_depth=5) : Bigram + Trigram + POS : 0.8755555555555555 :0.7733333333333333\n",
      "DecisionTreeClassifier(max_depth=5) : Unigram + Bigram  + Trigram : 0.8681481481481481 :0.7555555555555555\n"
     ]
    },
    {
     "name": "stderr",
     "output_type": "stream",
     "text": [
      "/home/gargi/.local/lib/python3.8/site-packages/sklearn/feature_extraction/text.py:525: UserWarning: The parameter 'token_pattern' will not be used since 'tokenizer' is not None'\n",
      "  warnings.warn(\n"
     ]
    },
    {
     "name": "stdout",
     "output_type": "stream",
     "text": [
      "DecisionTreeClassifier(max_depth=5) : Unigram + Bigram  + Trigram + POS : 0.8740740740740741 :0.7777777777777778\n",
      "RandomForestClassifier(max_depth=5, n_estimators=10) : Unigram : 0.8340740740740741 :0.7377777777777778\n"
     ]
    },
    {
     "name": "stderr",
     "output_type": "stream",
     "text": [
      "/home/gargi/.local/lib/python3.8/site-packages/sklearn/feature_extraction/text.py:525: UserWarning: The parameter 'token_pattern' will not be used since 'tokenizer' is not None'\n",
      "  warnings.warn(\n"
     ]
    },
    {
     "name": "stdout",
     "output_type": "stream",
     "text": [
      "RandomForestClassifier(max_depth=5, n_estimators=10) : Unigram + POS : 0.8577777777777778 :0.6888888888888889\n",
      "RandomForestClassifier(max_depth=5, n_estimators=10) : Bigram : 0.8177777777777778 :0.6933333333333334\n"
     ]
    },
    {
     "name": "stderr",
     "output_type": "stream",
     "text": [
      "/home/gargi/.local/lib/python3.8/site-packages/sklearn/feature_extraction/text.py:525: UserWarning: The parameter 'token_pattern' will not be used since 'tokenizer' is not None'\n",
      "  warnings.warn(\n"
     ]
    },
    {
     "name": "stdout",
     "output_type": "stream",
     "text": [
      "RandomForestClassifier(max_depth=5, n_estimators=10) : Bigram + POS : 0.837037037037037 :0.72\n",
      "RandomForestClassifier(max_depth=5, n_estimators=10) : Trigram : 0.7985185185185185 :0.7066666666666667\n"
     ]
    },
    {
     "name": "stderr",
     "output_type": "stream",
     "text": [
      "/home/gargi/.local/lib/python3.8/site-packages/sklearn/feature_extraction/text.py:525: UserWarning: The parameter 'token_pattern' will not be used since 'tokenizer' is not None'\n",
      "  warnings.warn(\n"
     ]
    },
    {
     "name": "stdout",
     "output_type": "stream",
     "text": [
      "RandomForestClassifier(max_depth=5, n_estimators=10) : Trigram + POS : 0.7748148148148148 :0.6533333333333333\n",
      "RandomForestClassifier(max_depth=5, n_estimators=10) : Unigram + Bigram : 0.8533333333333334 :0.6933333333333334\n"
     ]
    },
    {
     "name": "stderr",
     "output_type": "stream",
     "text": [
      "/home/gargi/.local/lib/python3.8/site-packages/sklearn/feature_extraction/text.py:525: UserWarning: The parameter 'token_pattern' will not be used since 'tokenizer' is not None'\n",
      "  warnings.warn(\n"
     ]
    },
    {
     "name": "stdout",
     "output_type": "stream",
     "text": [
      "RandomForestClassifier(max_depth=5, n_estimators=10) : Unigram + Bigram + POS : 0.8281481481481482 :0.6977777777777778\n",
      "RandomForestClassifier(max_depth=5, n_estimators=10) : Bigram + Trigram : 0.8518518518518519 :0.6844444444444444\n"
     ]
    },
    {
     "name": "stderr",
     "output_type": "stream",
     "text": [
      "/home/gargi/.local/lib/python3.8/site-packages/sklearn/feature_extraction/text.py:525: UserWarning: The parameter 'token_pattern' will not be used since 'tokenizer' is not None'\n",
      "  warnings.warn(\n"
     ]
    },
    {
     "name": "stdout",
     "output_type": "stream",
     "text": [
      "RandomForestClassifier(max_depth=5, n_estimators=10) : Bigram + Trigram + POS : 0.8444444444444444 :0.6933333333333334\n",
      "RandomForestClassifier(max_depth=5, n_estimators=10) : Unigram + Bigram  + Trigram : 0.8429629629629629 :0.7111111111111111\n"
     ]
    },
    {
     "name": "stderr",
     "output_type": "stream",
     "text": [
      "/home/gargi/.local/lib/python3.8/site-packages/sklearn/feature_extraction/text.py:525: UserWarning: The parameter 'token_pattern' will not be used since 'tokenizer' is not None'\n",
      "  warnings.warn(\n"
     ]
    },
    {
     "name": "stdout",
     "output_type": "stream",
     "text": [
      "RandomForestClassifier(max_depth=5, n_estimators=10) : Unigram + Bigram  + Trigram + POS : 0.8488888888888889 :0.6844444444444444\n",
      "MLPClassifier(hidden_layer_sizes=(8, 8, 8), max_iter=1500) : Unigram : 0.9718518518518519 :0.6044444444444445\n"
     ]
    },
    {
     "name": "stderr",
     "output_type": "stream",
     "text": [
      "/home/gargi/.local/lib/python3.8/site-packages/sklearn/feature_extraction/text.py:525: UserWarning: The parameter 'token_pattern' will not be used since 'tokenizer' is not None'\n",
      "  warnings.warn(\n"
     ]
    },
    {
     "name": "stdout",
     "output_type": "stream",
     "text": [
      "MLPClassifier(hidden_layer_sizes=(8, 8, 8), max_iter=1500) : Unigram + POS : 0.9451851851851852 :0.6533333333333333\n",
      "MLPClassifier(hidden_layer_sizes=(8, 8, 8), max_iter=1500) : Bigram : 0.9362962962962963 :0.6533333333333333\n"
     ]
    },
    {
     "name": "stderr",
     "output_type": "stream",
     "text": [
      "/home/gargi/.local/lib/python3.8/site-packages/sklearn/feature_extraction/text.py:525: UserWarning: The parameter 'token_pattern' will not be used since 'tokenizer' is not None'\n",
      "  warnings.warn(\n"
     ]
    },
    {
     "name": "stdout",
     "output_type": "stream",
     "text": [
      "MLPClassifier(hidden_layer_sizes=(8, 8, 8), max_iter=1500) : Bigram + POS : 0.9718518518518519 :0.6266666666666667\n",
      "MLPClassifier(hidden_layer_sizes=(8, 8, 8), max_iter=1500) : Trigram : 0.8740740740740741 :0.7244444444444444\n"
     ]
    },
    {
     "name": "stderr",
     "output_type": "stream",
     "text": [
      "/home/gargi/.local/lib/python3.8/site-packages/sklearn/feature_extraction/text.py:525: UserWarning: The parameter 'token_pattern' will not be used since 'tokenizer' is not None'\n",
      "  warnings.warn(\n"
     ]
    },
    {
     "name": "stdout",
     "output_type": "stream",
     "text": [
      "MLPClassifier(hidden_layer_sizes=(8, 8, 8), max_iter=1500) : Trigram + POS : 0.9333333333333333 :0.5822222222222222\n",
      "MLPClassifier(hidden_layer_sizes=(8, 8, 8), max_iter=1500) : Unigram + Bigram : 0.9762962962962963 :0.6311111111111111\n"
     ]
    },
    {
     "name": "stderr",
     "output_type": "stream",
     "text": [
      "/home/gargi/.local/lib/python3.8/site-packages/sklearn/feature_extraction/text.py:525: UserWarning: The parameter 'token_pattern' will not be used since 'tokenizer' is not None'\n",
      "  warnings.warn(\n"
     ]
    },
    {
     "name": "stdout",
     "output_type": "stream",
     "text": [
      "MLPClassifier(hidden_layer_sizes=(8, 8, 8), max_iter=1500) : Unigram + Bigram + POS : 0.9777777777777777 :0.6222222222222222\n",
      "MLPClassifier(hidden_layer_sizes=(8, 8, 8), max_iter=1500) : Bigram + Trigram : 0.9718518518518519 :0.6444444444444445\n"
     ]
    },
    {
     "name": "stderr",
     "output_type": "stream",
     "text": [
      "/home/gargi/.local/lib/python3.8/site-packages/sklearn/feature_extraction/text.py:525: UserWarning: The parameter 'token_pattern' will not be used since 'tokenizer' is not None'\n",
      "  warnings.warn(\n"
     ]
    },
    {
     "name": "stdout",
     "output_type": "stream",
     "text": [
      "MLPClassifier(hidden_layer_sizes=(8, 8, 8), max_iter=1500) : Bigram + Trigram + POS : 0.9688888888888889 :0.5733333333333334\n",
      "MLPClassifier(hidden_layer_sizes=(8, 8, 8), max_iter=1500) : Unigram + Bigram  + Trigram : 0.9748148148148148 :0.6177777777777778\n"
     ]
    },
    {
     "name": "stderr",
     "output_type": "stream",
     "text": [
      "/home/gargi/.local/lib/python3.8/site-packages/sklearn/feature_extraction/text.py:525: UserWarning: The parameter 'token_pattern' will not be used since 'tokenizer' is not None'\n",
      "  warnings.warn(\n"
     ]
    },
    {
     "name": "stdout",
     "output_type": "stream",
     "text": [
      "MLPClassifier(hidden_layer_sizes=(8, 8, 8), max_iter=1500) : Unigram + Bigram  + Trigram + POS : 0.9896296296296296 :0.5822222222222222\n"
     ]
    }
   ],
   "source": [
    "n_gram_pipeline = dict()\n",
    "n_gram_pipeline['Unigram'] = (1, 1)\n",
    "n_gram_pipeline['Bigram'] = (2, 2)\n",
    "n_gram_pipeline['Trigram'] = (3, 3)\n",
    "n_gram_pipeline['Unigram + Bigram'] = (1, 2)\n",
    "n_gram_pipeline['Bigram + Trigram'] = (1, 1)\n",
    "n_gram_pipeline['Unigram + Bigram  + Trigram'] = (1, 3)\n",
    "\n",
    "n_gram_tfidf_features_pipeline = dict()\n",
    "for features in n_gram_pipeline.keys():\n",
    "        n_gram_tfidf_features_pipeline[features] = TfidfVectorizer(min_df=3, max_features=250, strip_accents='unicode',lowercase =True,\n",
    "                            analyzer='word', token_pattern=r'\\w{3,}', ngram_range=n_gram_pipeline[features],\n",
    "                            use_idf=True,smooth_idf=True, sublinear_tf=True, stop_words = \"english\")\n",
    "        n_gram_tfidf_features_pipeline[str(features) + \" + POS\"] = TfidfVectorizer(min_df=3, max_features=250, strip_accents='unicode',lowercase =True,\n",
    "                            analyzer='word', token_pattern=r'\\w{3,}', ngram_range=n_gram_pipeline[features],\n",
    "                            use_idf=True,smooth_idf=True, sublinear_tf=True, stop_words = \"english\", tokenizer=POSTogging())\n",
    "\n",
    "models_pipeline = dict()\n",
    "models_pipeline['Linear SVC'] = LinearSVC(random_state=0, tol=1e-5)\n",
    "models_pipeline['Logistic Regression'] = LogisticRegression(solver='lbfgs', multi_class='auto')\n",
    "models_pipeline['Decision Tree'] = DecisionTreeClassifier(max_depth=5)\n",
    "models_pipeline['Random Forest'] = RandomForestClassifier(max_depth=5, n_estimators=10)\n",
    "models_pipeline['MLP (ANN)'] = MLPClassifier(hidden_layer_sizes=(8, 8, 8), max_iter=1500)\n",
    "\n",
    "\n",
    "text_file = open(\"model_results.txt\",\"w+\")\n",
    "\n",
    "col_features = df.columns[6:-3]\n",
    "print(col_features)\n",
    "X = MinMaxScaler().fit_transform(df[col_features])\n",
    "Y = df['mood']\n",
    "label_encoder = LabelEncoder()\n",
    "y_encoded = label_encoder.fit_transform(Y)\n",
    "\n",
    "print(\"Model : Features : train accuracy : test accuracy\")\n",
    "for models_name in models_pipeline.keys():\n",
    "        for tf_idf in n_gram_tfidf_features_pipeline.keys():\n",
    "                tf_idf_vectorizer = n_gram_tfidf_features_pipeline[tf_idf]\n",
    "                model = models_pipeline[models_name]\n",
    "                lyrics_tfidf_features = tf_idf_vectorizer.fit_transform(preprocessed_lyrics_list).toarray()\n",
    "                X_combined = np.concatenate((X, lyrics_tfidf_features), axis=1)\n",
    "                X_train, X_test, y_train, y_test = train_test_split(X_combined, y_encoded, test_size=0.25, random_state=42)\n",
    "                model.fit(X_train, y_train)\n",
    "                y_pred = model.predict(X_test)\n",
    "\n",
    "                train_accuracy = accuracy_score(model.predict(X_train), y_train)\n",
    "                test_accuracy = accuracy_score(y_pred, y_test)\n",
    "\n",
    "                stream = str(model) + \" : \" + str(tf_idf) + \" : \" + str(train_accuracy) + \" :\" + str(test_accuracy)\n",
    "                print(stream)\n",
    "                text_file.write(stream + \"\\n\")\n",
    "text_file.close()"
   ]
  }
 ],
 "metadata": {
  "kernelspec": {
   "display_name": "Python 3",
   "language": "python",
   "name": "python3"
  },
  "language_info": {
   "codemirror_mode": {
    "name": "ipython",
    "version": 3
   },
   "file_extension": ".py",
   "mimetype": "text/x-python",
   "name": "python",
   "nbconvert_exporter": "python",
   "pygments_lexer": "ipython3",
   "version": "3.10.12"
  }
 },
 "nbformat": 4,
 "nbformat_minor": 2
}
